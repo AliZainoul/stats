{
 "cells": [
  {
   "cell_type": "markdown",
   "metadata": {},
   "source": [
    "<font size=\"6\">  Test d'indépendance 🎲 avec Python </font>"
   ]
  },
  {
   "cell_type": "markdown",
   "metadata": {},
   "source": [
    "Les tests d'indépendance permettent de définir s'il existe un lien entre deux variables. Il existe différents tests d'indépendance, en voici quelques exemples :\n",
    "\n",
    "* Test d'indépendance entre deux variables quantitatives / Test de corrélation Pearson\n",
    "* Test d'indépendance entre deux variables qualitatives / Test du Chi²\n",
    "* Test d'indépendance entre une variable qualitative et une quantitative / Test de Fisher avec l'analyse de la variance (ANOVA)\n",
    "\n",
    "<br>\n",
    "\n",
    "Dans une démarche d'un projet de machine learning, les test d'indépendance permettent d'exclure des variables explicatives potentiellement non porteuses d'information."
   ]
  },
  {
   "cell_type": "markdown",
   "metadata": {},
   "source": [
    "Librairies utilisées"
   ]
  },
  {
   "cell_type": "code",
   "execution_count": 1,
   "metadata": {},
   "outputs": [],
   "source": [
    "# Importation de la bibliothèque de traçage Matplotlib\n",
    "import matplotlib.pyplot as plt\n",
    "\n",
    "# Importation de la bibliothèque Seaborn pour une visualisation de données plus attrayante\n",
    "import seaborn as sns\n",
    "\n",
    "# Importation de la bibliothèque NumPy pour le support de tableaux et de matrices multidimensionnels\n",
    "import numpy as np\n",
    "\n",
    "# Importation de la bibliothèque Pandas pour la manipulation et l'analyse des données\n",
    "import pandas as pd\n",
    "\n",
    "# Importation de divers modules de statistiques de la bibliothèque SciPy\n",
    "from scipy.stats import pearsonr   # Corrélation de Pearson\n",
    "from scipy.stats import bartlett   # Test de Bartlett pour l'homoscédasticité\n",
    "from scipy.stats import shapiro    # Test de normalité de Shapiro\n",
    "from scipy.stats import chi2_contingency  # Test du chi2 pour l'indépendance entre variables catégorielles\n",
    "from scipy.stats import kendalltau, spearmanr  # Corrélations de Kendall et de Spearman\n",
    "\n",
    "# Importation de modules de prétraitement de données de la bibliothèque scikit-learn\n",
    "from sklearn.preprocessing import StandardScaler  # Standardisation des caractéristiques\n",
    "from sklearn.datasets import make_regression, make_circles  # Génération de jeux de données pour la régression et la classification\n",
    "\n",
    "# Importation de modules de statistiques de la bibliothèque Statsmodels\n",
    "import statsmodels.stats.multicomp as multi  # Comparaisons multiples avec ajustement de Bonferroni\n",
    "import statsmodels.api as sm  # Modèles statistiques avancés\n",
    "from statsmodels.formula.api import ols  # Modèle linéaire ordinaire\n",
    "\n"
   ]
  },
  {
   "cell_type": "markdown",
   "metadata": {},
   "source": [
    "# Test de corrélation Pearson"
   ]
  },
  {
   "cell_type": "markdown",
   "metadata": {},
   "source": [
    "L’intérêt des tests de corrélation est d’apporter plus de pertinence et de fiabilité aux coefficients de corrélation. Il existe différents tests de corrélation, nous utilisons celui de Pearson.\n",
    "\n",
    "On travaille avec le jeu de données fromage 🧀 disponible en [cliquant ici](https://github.com/asardell/statistique-python/tree/master/Dataset)"
   ]
  },
  {
   "cell_type": "code",
   "execution_count": 67,
   "metadata": {},
   "outputs": [
    {
     "data": {
      "text/html": [
       "<div>\n",
       "<style scoped>\n",
       "    .dataframe tbody tr th:only-of-type {\n",
       "        vertical-align: middle;\n",
       "    }\n",
       "\n",
       "    .dataframe tbody tr th {\n",
       "        vertical-align: top;\n",
       "    }\n",
       "\n",
       "    .dataframe thead th {\n",
       "        text-align: right;\n",
       "    }\n",
       "</style>\n",
       "<table border=\"1\" class=\"dataframe\">\n",
       "  <thead>\n",
       "    <tr style=\"text-align: right;\">\n",
       "      <th></th>\n",
       "      <th>calories</th>\n",
       "      <th>sodium</th>\n",
       "      <th>calcium</th>\n",
       "      <th>lipides</th>\n",
       "      <th>retinol</th>\n",
       "      <th>folates</th>\n",
       "      <th>proteines</th>\n",
       "      <th>cholesterol</th>\n",
       "      <th>magnesium</th>\n",
       "    </tr>\n",
       "    <tr>\n",
       "      <th>Fromages</th>\n",
       "      <th></th>\n",
       "      <th></th>\n",
       "      <th></th>\n",
       "      <th></th>\n",
       "      <th></th>\n",
       "      <th></th>\n",
       "      <th></th>\n",
       "      <th></th>\n",
       "      <th></th>\n",
       "    </tr>\n",
       "  </thead>\n",
       "  <tbody>\n",
       "    <tr>\n",
       "      <th>CarredelEst</th>\n",
       "      <td>314</td>\n",
       "      <td>353.5</td>\n",
       "      <td>72.6</td>\n",
       "      <td>26.3</td>\n",
       "      <td>51.6</td>\n",
       "      <td>30.3</td>\n",
       "      <td>21.0</td>\n",
       "      <td>70</td>\n",
       "      <td>20</td>\n",
       "    </tr>\n",
       "    <tr>\n",
       "      <th>Babybel</th>\n",
       "      <td>314</td>\n",
       "      <td>238.0</td>\n",
       "      <td>209.8</td>\n",
       "      <td>25.1</td>\n",
       "      <td>63.7</td>\n",
       "      <td>6.4</td>\n",
       "      <td>22.6</td>\n",
       "      <td>70</td>\n",
       "      <td>27</td>\n",
       "    </tr>\n",
       "    <tr>\n",
       "      <th>Beaufort</th>\n",
       "      <td>401</td>\n",
       "      <td>112.0</td>\n",
       "      <td>259.4</td>\n",
       "      <td>33.3</td>\n",
       "      <td>54.9</td>\n",
       "      <td>1.2</td>\n",
       "      <td>26.6</td>\n",
       "      <td>120</td>\n",
       "      <td>41</td>\n",
       "    </tr>\n",
       "    <tr>\n",
       "      <th>Bleu</th>\n",
       "      <td>342</td>\n",
       "      <td>336.0</td>\n",
       "      <td>211.1</td>\n",
       "      <td>28.9</td>\n",
       "      <td>37.1</td>\n",
       "      <td>27.5</td>\n",
       "      <td>20.2</td>\n",
       "      <td>90</td>\n",
       "      <td>27</td>\n",
       "    </tr>\n",
       "    <tr>\n",
       "      <th>Camembert</th>\n",
       "      <td>264</td>\n",
       "      <td>314.0</td>\n",
       "      <td>215.9</td>\n",
       "      <td>19.5</td>\n",
       "      <td>103.0</td>\n",
       "      <td>36.4</td>\n",
       "      <td>23.4</td>\n",
       "      <td>60</td>\n",
       "      <td>20</td>\n",
       "    </tr>\n",
       "  </tbody>\n",
       "</table>\n",
       "</div>"
      ],
      "text/plain": [
       "             calories  sodium  calcium  lipides  retinol  folates  proteines  \\\n",
       "Fromages                                                                       \n",
       "CarredelEst       314   353.5     72.6     26.3     51.6     30.3       21.0   \n",
       "Babybel           314   238.0    209.8     25.1     63.7      6.4       22.6   \n",
       "Beaufort          401   112.0    259.4     33.3     54.9      1.2       26.6   \n",
       "Bleu              342   336.0    211.1     28.9     37.1     27.5       20.2   \n",
       "Camembert         264   314.0    215.9     19.5    103.0     36.4       23.4   \n",
       "\n",
       "             cholesterol  magnesium  \n",
       "Fromages                             \n",
       "CarredelEst           70         20  \n",
       "Babybel               70         27  \n",
       "Beaufort             120         41  \n",
       "Bleu                  90         27  \n",
       "Camembert             60         20  "
      ]
     },
     "execution_count": 67,
     "metadata": {},
     "output_type": "execute_result"
    }
   ],
   "source": [
    "# Chargement d'un fichier texte dans un DataFrame Pandas en utilisant read_table\n",
    "# Documentation Pandas pour read_table: https://pandas.pydata.org/pandas-docs/stable/reference/api/pandas.read_table.html\n",
    "df = pd.read_table(\"../Dataset/fromage.txt\", index_col=0)\n",
    "\n",
    "# Affichage des premières lignes du DataFrame pour vérifier les données\n",
    "# Documentation Pandas pour head: https://pandas.pydata.org/pandas-docs/stable/reference/api/pandas.DataFrame.head.html\n",
    "df.head()\n"
   ]
  },
  {
   "cell_type": "markdown",
   "metadata": {},
   "source": [
    "Avant de réaliser des tests d'indépendance, on projette graphiquement les données 2 à 2"
   ]
  },
  {
   "cell_type": "code",
   "execution_count": 68,
   "metadata": {},
   "outputs": [
    {
     "name": "stderr",
     "output_type": "stream",
     "text": [
      "/Users/home/anaconda3/envs/myTestENV/lib/python3.8/site-packages/seaborn/axisgrid.py:118: UserWarning: The figure layout has changed to tight\n",
      "  self._figure.tight_layout(*args, **kwargs)\n"
     ]
    },
    {
     "data": {
      "text/plain": [
       "<seaborn.axisgrid.PairGrid at 0x7f8d016465e0>"
      ]
     },
     "execution_count": 68,
     "metadata": {},
     "output_type": "execute_result"
    },
    {
     "data": {
      "image/png": "[encoded data removed]",
      "text/plain": [
       "<Figure size 2250x2250 with 90 Axes>"
      ]
     },
     "metadata": {},
     "output_type": "display_data"
    }
   ],
   "source": [
    "# Utilisation de Seaborn pour créer une matrice de nuages de points (pairplot) pour les colonnes 0 à 8 du DataFrame\n",
    "# Documentation Seaborn pour pairplot: https://seaborn.pydata.org/generated/seaborn.pairplot.html\n",
    "# Sélection de toutes les lignes du DataFrame df, mais uniquement les colonnes des indices 0 à 8\n",
    "# Utilisation de la méthode iloc pour l'indexation basée sur des positions\n",
    "# La syntaxe iloc[:, 0:9] signifie toutes les lignes (:), et les colonnes de l'indice 0 inclus à l'indice 8 inclus (0:9)\n",
    "# Documentation Pandas pour iloc: https://pandas.pydata.org/pandas-docs/stable/reference/api/pandas.DataFrame.iloc.html\n",
    "sns.pairplot(df.iloc[:, 0:9])\n"
   ]
  },
  {
   "cell_type": "markdown",
   "metadata": {},
   "source": [
    "## Matrice des corrélations"
   ]
  },
  {
   "cell_type": "markdown",
   "metadata": {},
   "source": [
    "Voici la matrice des corrélations des variables du fichier fromage."
   ]
  },
  {
   "cell_type": "code",
   "execution_count": 4,
   "metadata": {},
   "outputs": [
    {
     "data": {
      "image/png": "[encoded data removed]",
      "text/plain": [
       "<Figure size 1000x400 with 2 Axes>"
      ]
     },
     "metadata": {},
     "output_type": "display_data"
    }
   ],
   "source": [
    "# Définition de la taille par défaut des figures pour les tracés Seaborn\n",
    "# Documentation Seaborn pour sns.set: https://seaborn.pydata.org/generated/seaborn.set.html\n",
    "# Configuration de la taille par défaut des figures (plots) créées par Seaborn\n",
    "# Utilisation de sns.set pour définir les paramètres esthétiques (rc) de la figure.figsize\n",
    "# La taille est définie ici sur (10, 4) pouces (largeur, hauteur)\n",
    "# Documentation Seaborn pour sns.set: https://seaborn.pydata.org/generated/seaborn.set.html\n",
    "sns.set(rc={'figure.figsize':(10,4)})\n",
    "\n",
    "# Calcul de la matrice de corrélation pour le DataFrame df\n",
    "# Documentation Pandas pour corr: https://pandas.pydata.org/pandas-docs/stable/reference/api/pandas.DataFrame.corr.html\n",
    "df_corr = df.corr()\n",
    "\n",
    "# Création d'une heatmap (carte thermique) à partir de la matrice de corrélation avec Seaborn\n",
    "# Documentation Seaborn pour heatmap: https://seaborn.pydata.org/generated/seaborn.heatmap.html\n",
    "# Création d'une heatmap à partir de la matrice de corrélation df_corr avec Seaborn\n",
    "# Utilisation de sns.heatmap pour visualiser graphiquement la corrélation entre les variables\n",
    "# xticklabels et yticklabels sont utilisés pour afficher les étiquettes des colonnes sur les axes x et y respectivement\n",
    "# cmap='coolwarm' définit la palette de couleurs utilisée dans la heatmap\n",
    "# Documentation Seaborn pour heatmap: https://seaborn.pydata.org/generated/seaborn.heatmap.html\n",
    "ax = sns.heatmap(df_corr, xticklabels=df_corr.columns, yticklabels=df_corr.columns, cmap='coolwarm')\n",
    "\n"
   ]
  },
  {
   "cell_type": "markdown",
   "metadata": {},
   "source": [
    "L'intérêt des tests de corrélation est d'apporter plus de pertinence et fiabilité aux coefficients de corrélation. Il existe différents test de corrélation, nous utilisons celui de Pearson."
   ]
  },
  {
   "cell_type": "code",
   "execution_count": 5,
   "metadata": {},
   "outputs": [],
   "source": [
    "# Importation de la fonction pearsonr du module scipy.stats\n",
    "# La fonction pearsonr est utilisée pour calculer la corrélation de Pearson et son p-value\n",
    "# Documentation SciPy pour pearsonr: https://docs.scipy.org/doc/scipy/reference/generated/scipy.stats.pearsonr.html\n",
    "from scipy.stats import pearsonr\n"
   ]
  },
  {
   "cell_type": "markdown",
   "metadata": {},
   "source": [
    "On pose les hypothèses de départ :\n",
    "\n",
    "* H0 : Variables indépendantes si p-value > 5%\n",
    "* H1 : Variables non indépendantes si p-value < 5%"
   ]
  },
  {
   "cell_type": "markdown",
   "metadata": {},
   "source": [
    "### Lipides vs Magnesium"
   ]
  },
  {
   "cell_type": "markdown",
   "metadata": {},
   "source": [
    "La première sortie correspond au coefficient de corrélation, la seconde à la p-value (ou probabilité critique)"
   ]
  },
  {
   "cell_type": "code",
   "execution_count": 6,
   "metadata": {},
   "outputs": [
    {
     "data": {
      "text/plain": [
       "PearsonRResult(statistic=0.6898600757996967, pvalue=3.4693640122029244e-05)"
      ]
     },
     "execution_count": 6,
     "metadata": {},
     "output_type": "execute_result"
    }
   ],
   "source": [
    "# Calcul de la corrélation de Pearson entre les colonnes 'lipides' et 'magnesium' du DataFrame df\n",
    "# Utilisation de la fonction pearsonr du module scipy.stats\n",
    "# La fonction pearsonr renvoie un tuple contenant le coefficient de corrélation de Pearson et la valeur p associée\n",
    "# Documentation SciPy pour pearsonr: https://docs.scipy.org/doc/scipy/reference/generated/scipy.stats.pearsonr.html\n",
    "\n",
    "pearsonr(df.lipides, df.magnesium)"
   ]
  },
  {
   "cell_type": "markdown",
   "metadata": {},
   "source": [
    "~H0 : Variables indépendantes si p-value > 5%~\n",
    "<br> H1 : Variables non indépendantes si p-value < 5%"
   ]
  },
  {
   "cell_type": "markdown",
   "metadata": {},
   "source": [
    "### Sodium vs Retinol"
   ]
  },
  {
   "cell_type": "code",
   "execution_count": 7,
   "metadata": {},
   "outputs": [
    {
     "data": {
      "text/plain": [
       "PearsonRResult(statistic=0.14432755157345512, pvalue=0.45508547512205944)"
      ]
     },
     "execution_count": 7,
     "metadata": {},
     "output_type": "execute_result"
    }
   ],
   "source": [
    "# Calcul de la corrélation de Pearson entre les colonnes 'sodium' et 'retinol' du DataFrame df\n",
    "# Utilisation de la fonction pearsonr du module scipy.stats\n",
    "# La fonction pearsonr renvoie un tuple contenant le coefficient de corrélation de Pearson et la valeur p associée\n",
    "# Documentation SciPy pour pearsonr: https://docs.scipy.org/doc/scipy/reference/generated/scipy.stats.pearsonr.html\n",
    "\n",
    "pearsonr(df.sodium, df.retinol)"
   ]
  },
  {
   "cell_type": "markdown",
   "metadata": {},
   "source": [
    "H0 : Variables indépendantes si p-value > 5%\n",
    "<br> ~H1 : Variables non indépendantes si p-value < 5%~ <br>\n",
    "Si on veut rejeter H0 et prendre H1, on a 45,5% de chance de se tromper"
   ]
  },
  {
   "cell_type": "markdown",
   "metadata": {},
   "source": [
    "📢 Les tests statistiques sont très sensibles à la taille de l'échantillon. \n",
    "Un coefficient de corrélation de 0.14 n'aura pas la même significativité sur un échantillon de 29 fromages qu'un échantillon de 319 fromages avec le même coefficient de corrélation."
   ]
  },
  {
   "cell_type": "markdown",
   "metadata": {},
   "source": [
    "On construit un dataframe en dupliquant le nombre de lignes"
   ]
  },
  {
   "cell_type": "code",
   "execution_count": 8,
   "metadata": {},
   "outputs": [
    {
     "data": {
      "text/plain": [
       "(319, 10)"
      ]
     },
     "execution_count": 8,
     "metadata": {},
     "output_type": "execute_result"
    }
   ],
   "source": [
    "# Création d'une copie du DataFrame df\n",
    "df_append = df.copy()\n",
    "\n",
    "# Réinitialisation de l'index du DataFrame\n",
    "# Utilisation de la méthode reset_index pour remettre l'index du DataFrame à sa forme originale\n",
    "# inplace=True modifie le DataFrame existant au lieu de créer une copie\n",
    "# Documentation Pandas pour reset_index: https://pandas.pydata.org/pandas-docs/stable/reference/api/pandas.DataFrame.reset_index.html\n",
    "df_append.reset_index(inplace=True)\n",
    "\n",
    "# Append du DataFrame copié à lui-même 10 fois, en ignorant l'index pour éviter les duplicatas\n",
    "# Utilisation de la méthode append de Pandas pour concaténer plusieurs copies du DataFrame\n",
    "# ignore_index=True réinitialise l'index du DataFrame résultant\n",
    "# Documentation Pandas pour append: https://pandas.pydata.org/pandas-docs/stable/reference/api/pandas.DataFrame.append.html\n",
    "df_append = df_append._append([df_append]*10, ignore_index=True)\n",
    "\n",
    "# Affichage de la forme (nombre de lignes et de colonnes) du DataFrame résultant\n",
    "# Utilisation de la propriété shape pour obtenir les dimensions du DataFrame\n",
    "df_append.shape\n"
   ]
  },
  {
   "cell_type": "markdown",
   "metadata": {},
   "source": [
    "Chaque fromage apparaît plusieurs fois, on a donc augmenté la taille de l'échantillon"
   ]
  },
  {
   "cell_type": "code",
   "execution_count": 9,
   "metadata": {},
   "outputs": [
    {
     "data": {
      "text/plain": [
       "Fromages\n",
       "CarredelEst       11\n",
       "Fr.frais20nat.    11\n",
       "Vacherin          11\n",
       "Tome              11\n",
       "SaintPaulin       11\n",
       "Name: count, dtype: int64"
      ]
     },
     "execution_count": 9,
     "metadata": {},
     "output_type": "execute_result"
    }
   ],
   "source": [
    "# Utilisation de la méthode value_counts() pour compter le nombre d'occurrences de chaque valeur dans la colonne 'Fromages'\n",
    "# Cela génère une série Pandas avec les valeurs uniques comme index et leur fréquence comme valeurs\n",
    "# Documentation Pandas pour value_counts: https://pandas.pydata.org/pandas-docs/stable/reference/api/pandas.Series.value_counts.html\n",
    "\n",
    "# Utilisation de la méthode head() pour afficher les premières lignes de la série (par défaut, les 5 premières)\n",
    "# Ceci donne un aperçu des fromages les plus fréquemment présents dans le DataFrame\n",
    "# Documentation Pandas pour head: https://pandas.pydata.org/pandas-docs/stable/reference/api/pandas.Series.head.html\n",
    "\n",
    "df_append.Fromages.value_counts().head()\n"
   ]
  },
  {
   "cell_type": "markdown",
   "metadata": {},
   "source": [
    "On effectue un autre test de corrélation avec les mêmes variables sur l'échantillon plus grand"
   ]
  },
  {
   "cell_type": "code",
   "execution_count": 10,
   "metadata": {},
   "outputs": [
    {
     "data": {
      "text/plain": [
       "PearsonRResult(statistic=0.1443275515734551, pvalue=0.00984628928803309)"
      ]
     },
     "execution_count": 10,
     "metadata": {},
     "output_type": "execute_result"
    }
   ],
   "source": [
    "# Calcul de la corrélation de Pearson entre les colonnes 'sodium' et 'retinol' du DataFrame df_append\n",
    "# Utilisation de la fonction pearsonr du module scipy.stats\n",
    "# La fonction pearsonr renvoie un tuple contenant le coefficient de corrélation de Pearson et la valeur p associée\n",
    "# Documentation SciPy pour pearsonr: https://docs.scipy.org/doc/scipy/reference/generated/scipy.stats.pearsonr.html\n",
    "\n",
    "pearsonr(df_append.sodium, df_append.retinol)"
   ]
  },
  {
   "cell_type": "markdown",
   "metadata": {},
   "source": [
    "~H0 : Variables indépendantes si p-value > 5%~\n",
    "<br> H1 : Variables non indépendantes si p-value < 5% <br>"
   ]
  },
  {
   "cell_type": "markdown",
   "metadata": {},
   "source": [
    "On obtient logiquement le même coefficient de corrélation, mais en revanche, cette fois si la p-value est proche de 0."
   ]
  },
  {
   "cell_type": "markdown",
   "metadata": {},
   "source": [
    "###  Matrice des p-values"
   ]
  },
  {
   "cell_type": "markdown",
   "metadata": {},
   "source": [
    "On effectue un test de corrélation sur chaque variable 2 à 2 en isolant uniquement la p-value"
   ]
  },
  {
   "cell_type": "code",
   "execution_count": 11,
   "metadata": {},
   "outputs": [],
   "source": [
    "# Création d'un tableau numpy de dimensions (nombre de colonnes, nombre de colonnes)\n",
    "# Initialisation avec des valeurs NaN\n",
    "a = np.empty((len(df.columns), len(df.columns),))\n",
    "a[:] = np.nan\n",
    "\n",
    "# Boucle pour calculer les valeurs p (p-value) de la corrélation de Pearson entre toutes les paires de colonnes du DataFrame df\n",
    "for i in range(0, len(df.columns)):\n",
    "    for j in range(0, len(df.columns)):\n",
    "        # Utilisation de la fonction pearsonr du module scipy.stats pour calculer le coefficient de corrélation de Pearson et la valeur p\n",
    "        # La valeur p est stockée dans la deuxième position du tuple retourné par pearsonr, d'où [1]\n",
    "        a[i, j] = pearsonr(df.iloc[:, i], df.iloc[:, j])[1]\n",
    "\n",
    "# Création d'un DataFrame Pandas à partir du tableau numpy contenant les valeurs p\n",
    "# Arrondissement des valeurs à 6 décimales\n",
    "df_pvalue = round(pd.DataFrame(a, columns=df.columns, index=df.columns), 6)\n"
   ]
  },
  {
   "cell_type": "markdown",
   "metadata": {},
   "source": [
    "On affiche la matrice des corrélations avec un gradiant de couleur"
   ]
  },
  {
   "cell_type": "code",
   "execution_count": 12,
   "metadata": {},
   "outputs": [
    {
     "data": {
      "text/html": [
       "<style type=\"text/css\">\n",
       "#T_6782a_row0_col0, #T_6782a_row0_col3, #T_6782a_row0_col6, #T_6782a_row0_col7, #T_6782a_row0_col8, #T_6782a_row1_col1, #T_6782a_row2_col2, #T_6782a_row2_col5, #T_6782a_row2_col6, #T_6782a_row2_col8, #T_6782a_row3_col0, #T_6782a_row3_col3, #T_6782a_row3_col6, #T_6782a_row3_col7, #T_6782a_row3_col8, #T_6782a_row4_col4, #T_6782a_row4_col5, #T_6782a_row5_col2, #T_6782a_row5_col4, #T_6782a_row5_col5, #T_6782a_row6_col0, #T_6782a_row6_col2, #T_6782a_row6_col3, #T_6782a_row6_col6, #T_6782a_row6_col7, #T_6782a_row6_col8, #T_6782a_row7_col0, #T_6782a_row7_col3, #T_6782a_row7_col6, #T_6782a_row7_col7, #T_6782a_row7_col8, #T_6782a_row8_col0, #T_6782a_row8_col2, #T_6782a_row8_col3, #T_6782a_row8_col6, #T_6782a_row8_col7, #T_6782a_row8_col8 {\n",
       "  background-color: #ebf3eb;\n",
       "  color: #000000;\n",
       "}\n",
       "#T_6782a_row0_col1, #T_6782a_row1_col3, #T_6782a_row3_col1 {\n",
       "  background-color: #e9f2e9;\n",
       "  color: #000000;\n",
       "}\n",
       "#T_6782a_row0_col2, #T_6782a_row5_col8, #T_6782a_row7_col2 {\n",
       "  background-color: #e6f1e6;\n",
       "  color: #000000;\n",
       "}\n",
       "#T_6782a_row0_col4 {\n",
       "  background-color: #178b17;\n",
       "  color: #f1f1f1;\n",
       "}\n",
       "#T_6782a_row0_col5 {\n",
       "  background-color: #beddbe;\n",
       "  color: #000000;\n",
       "}\n",
       "#T_6782a_row1_col0 {\n",
       "  background-color: #e8f2e8;\n",
       "  color: #000000;\n",
       "}\n",
       "#T_6782a_row1_col2, #T_6782a_row1_col5, #T_6782a_row1_col8, #T_6782a_row2_col1, #T_6782a_row3_col4, #T_6782a_row4_col0, #T_6782a_row4_col3, #T_6782a_row4_col6, #T_6782a_row4_col7 {\n",
       "  background-color: #008000;\n",
       "  color: #f1f1f1;\n",
       "}\n",
       "#T_6782a_row1_col4 {\n",
       "  background-color: #75b975;\n",
       "  color: #f1f1f1;\n",
       "}\n",
       "#T_6782a_row1_col6 {\n",
       "  background-color: #c1dfc1;\n",
       "  color: #000000;\n",
       "}\n",
       "#T_6782a_row1_col7 {\n",
       "  background-color: #cee5ce;\n",
       "  color: #000000;\n",
       "}\n",
       "#T_6782a_row2_col0 {\n",
       "  background-color: #e5f0e5;\n",
       "  color: #000000;\n",
       "}\n",
       "#T_6782a_row2_col3, #T_6782a_row5_col7 {\n",
       "  background-color: #d9ead9;\n",
       "  color: #000000;\n",
       "}\n",
       "#T_6782a_row2_col4 {\n",
       "  background-color: #c9e3c9;\n",
       "  color: #000000;\n",
       "}\n",
       "#T_6782a_row2_col7 {\n",
       "  background-color: #e4f0e4;\n",
       "  color: #000000;\n",
       "}\n",
       "#T_6782a_row3_col2, #T_6782a_row5_col6 {\n",
       "  background-color: #daebda;\n",
       "  color: #000000;\n",
       "}\n",
       "#T_6782a_row3_col5 {\n",
       "  background-color: #a1cfa1;\n",
       "  color: #000000;\n",
       "}\n",
       "#T_6782a_row4_col1 {\n",
       "  background-color: #7cbd7c;\n",
       "  color: #000000;\n",
       "}\n",
       "#T_6782a_row4_col2 {\n",
       "  background-color: #cce4cc;\n",
       "  color: #000000;\n",
       "}\n",
       "#T_6782a_row4_col8 {\n",
       "  background-color: #46a246;\n",
       "  color: #f1f1f1;\n",
       "}\n",
       "#T_6782a_row5_col0 {\n",
       "  background-color: #d2e7d2;\n",
       "  color: #000000;\n",
       "}\n",
       "#T_6782a_row5_col1 {\n",
       "  background-color: #78bb78;\n",
       "  color: #f1f1f1;\n",
       "}\n",
       "#T_6782a_row5_col3 {\n",
       "  background-color: #c5e0c5;\n",
       "  color: #000000;\n",
       "}\n",
       "#T_6782a_row6_col1 {\n",
       "  background-color: #c7e1c7;\n",
       "  color: #000000;\n",
       "}\n",
       "#T_6782a_row6_col4 {\n",
       "  background-color: #148a14;\n",
       "  color: #f1f1f1;\n",
       "}\n",
       "#T_6782a_row6_col5 {\n",
       "  background-color: #cde5cd;\n",
       "  color: #000000;\n",
       "}\n",
       "#T_6782a_row7_col1 {\n",
       "  background-color: #d8ead8;\n",
       "  color: #000000;\n",
       "}\n",
       "#T_6782a_row7_col4 {\n",
       "  background-color: #45a245;\n",
       "  color: #f1f1f1;\n",
       "}\n",
       "#T_6782a_row7_col5 {\n",
       "  background-color: #d3e7d3;\n",
       "  color: #000000;\n",
       "}\n",
       "#T_6782a_row8_col1 {\n",
       "  background-color: #1a8d1a;\n",
       "  color: #f1f1f1;\n",
       "}\n",
       "#T_6782a_row8_col4 {\n",
       "  background-color: #4fa74f;\n",
       "  color: #f1f1f1;\n",
       "}\n",
       "#T_6782a_row8_col5 {\n",
       "  background-color: #e1eee1;\n",
       "  color: #000000;\n",
       "}\n",
       "</style>\n",
       "<table id=\"T_6782a\">\n",
       "  <thead>\n",
       "    <tr>\n",
       "      <th class=\"blank level0\" >&nbsp;</th>\n",
       "      <th id=\"T_6782a_level0_col0\" class=\"col_heading level0 col0\" >calories</th>\n",
       "      <th id=\"T_6782a_level0_col1\" class=\"col_heading level0 col1\" >sodium</th>\n",
       "      <th id=\"T_6782a_level0_col2\" class=\"col_heading level0 col2\" >calcium</th>\n",
       "      <th id=\"T_6782a_level0_col3\" class=\"col_heading level0 col3\" >lipides</th>\n",
       "      <th id=\"T_6782a_level0_col4\" class=\"col_heading level0 col4\" >retinol</th>\n",
       "      <th id=\"T_6782a_level0_col5\" class=\"col_heading level0 col5\" >folates</th>\n",
       "      <th id=\"T_6782a_level0_col6\" class=\"col_heading level0 col6\" >proteines</th>\n",
       "      <th id=\"T_6782a_level0_col7\" class=\"col_heading level0 col7\" >cholesterol</th>\n",
       "      <th id=\"T_6782a_level0_col8\" class=\"col_heading level0 col8\" >magnesium</th>\n",
       "    </tr>\n",
       "  </thead>\n",
       "  <tbody>\n",
       "    <tr>\n",
       "      <th id=\"T_6782a_level0_row0\" class=\"row_heading level0 row0\" >calories</th>\n",
       "      <td id=\"T_6782a_row0_col0\" class=\"data row0 col0\" >0.000000</td>\n",
       "      <td id=\"T_6782a_row0_col1\" class=\"data row0 col1\" >0.010000</td>\n",
       "      <td id=\"T_6782a_row0_col2\" class=\"data row0 col2\" >0.020000</td>\n",
       "      <td id=\"T_6782a_row0_col3\" class=\"data row0 col3\" >0.000000</td>\n",
       "      <td id=\"T_6782a_row0_col4\" class=\"data row0 col4\" >0.830000</td>\n",
       "      <td id=\"T_6782a_row0_col5\" class=\"data row0 col5\" >0.090000</td>\n",
       "      <td id=\"T_6782a_row0_col6\" class=\"data row0 col6\" >0.000000</td>\n",
       "      <td id=\"T_6782a_row0_col7\" class=\"data row0 col7\" >0.000000</td>\n",
       "      <td id=\"T_6782a_row0_col8\" class=\"data row0 col8\" >0.000000</td>\n",
       "    </tr>\n",
       "    <tr>\n",
       "      <th id=\"T_6782a_level0_row1\" class=\"row_heading level0 row1\" >sodium</th>\n",
       "      <td id=\"T_6782a_row1_col0\" class=\"data row1 col0\" >0.010000</td>\n",
       "      <td id=\"T_6782a_row1_col1\" class=\"data row1 col1\" >0.000000</td>\n",
       "      <td id=\"T_6782a_row1_col2\" class=\"data row1 col2\" >0.980000</td>\n",
       "      <td id=\"T_6782a_row1_col3\" class=\"data row1 col3\" >0.010000</td>\n",
       "      <td id=\"T_6782a_row1_col4\" class=\"data row1 col4\" >0.460000</td>\n",
       "      <td id=\"T_6782a_row1_col5\" class=\"data row1 col5\" >0.480000</td>\n",
       "      <td id=\"T_6782a_row1_col6\" class=\"data row1 col6\" >0.150000</td>\n",
       "      <td id=\"T_6782a_row1_col7\" class=\"data row1 col7\" >0.080000</td>\n",
       "      <td id=\"T_6782a_row1_col8\" class=\"data row1 col8\" >0.870000</td>\n",
       "    </tr>\n",
       "    <tr>\n",
       "      <th id=\"T_6782a_level0_row2\" class=\"row_heading level0 row2\" >calcium</th>\n",
       "      <td id=\"T_6782a_row2_col0\" class=\"data row2 col0\" >0.020000</td>\n",
       "      <td id=\"T_6782a_row2_col1\" class=\"data row2 col1\" >0.980000</td>\n",
       "      <td id=\"T_6782a_row2_col2\" class=\"data row2 col2\" >0.000000</td>\n",
       "      <td id=\"T_6782a_row2_col3\" class=\"data row2 col3\" >0.070000</td>\n",
       "      <td id=\"T_6782a_row2_col4\" class=\"data row2 col4\" >0.130000</td>\n",
       "      <td id=\"T_6782a_row2_col5\" class=\"data row2 col5\" >0.000000</td>\n",
       "      <td id=\"T_6782a_row2_col6\" class=\"data row2 col6\" >0.000000</td>\n",
       "      <td id=\"T_6782a_row2_col7\" class=\"data row2 col7\" >0.020000</td>\n",
       "      <td id=\"T_6782a_row2_col8\" class=\"data row2 col8\" >0.000000</td>\n",
       "    </tr>\n",
       "    <tr>\n",
       "      <th id=\"T_6782a_level0_row3\" class=\"row_heading level0 row3\" >lipides</th>\n",
       "      <td id=\"T_6782a_row3_col0\" class=\"data row3 col0\" >0.000000</td>\n",
       "      <td id=\"T_6782a_row3_col1\" class=\"data row3 col1\" >0.010000</td>\n",
       "      <td id=\"T_6782a_row3_col2\" class=\"data row3 col2\" >0.070000</td>\n",
       "      <td id=\"T_6782a_row3_col3\" class=\"data row3 col3\" >0.000000</td>\n",
       "      <td id=\"T_6782a_row3_col4\" class=\"data row3 col4\" >0.920000</td>\n",
       "      <td id=\"T_6782a_row3_col5\" class=\"data row3 col5\" >0.150000</td>\n",
       "      <td id=\"T_6782a_row3_col6\" class=\"data row3 col6\" >0.000000</td>\n",
       "      <td id=\"T_6782a_row3_col7\" class=\"data row3 col7\" >0.000000</td>\n",
       "      <td id=\"T_6782a_row3_col8\" class=\"data row3 col8\" >0.000000</td>\n",
       "    </tr>\n",
       "    <tr>\n",
       "      <th id=\"T_6782a_level0_row4\" class=\"row_heading level0 row4\" >retinol</th>\n",
       "      <td id=\"T_6782a_row4_col0\" class=\"data row4 col0\" >0.830000</td>\n",
       "      <td id=\"T_6782a_row4_col1\" class=\"data row4 col1\" >0.460000</td>\n",
       "      <td id=\"T_6782a_row4_col2\" class=\"data row4 col2\" >0.130000</td>\n",
       "      <td id=\"T_6782a_row4_col3\" class=\"data row4 col3\" >0.920000</td>\n",
       "      <td id=\"T_6782a_row4_col4\" class=\"data row4 col4\" >0.000000</td>\n",
       "      <td id=\"T_6782a_row4_col5\" class=\"data row4 col5\" >0.000000</td>\n",
       "      <td id=\"T_6782a_row4_col6\" class=\"data row4 col6\" >0.840000</td>\n",
       "      <td id=\"T_6782a_row4_col7\" class=\"data row4 col7\" >0.650000</td>\n",
       "      <td id=\"T_6782a_row4_col8\" class=\"data row4 col8\" >0.610000</td>\n",
       "    </tr>\n",
       "    <tr>\n",
       "      <th id=\"T_6782a_level0_row5\" class=\"row_heading level0 row5\" >folates</th>\n",
       "      <td id=\"T_6782a_row5_col0\" class=\"data row5 col0\" >0.090000</td>\n",
       "      <td id=\"T_6782a_row5_col1\" class=\"data row5 col1\" >0.480000</td>\n",
       "      <td id=\"T_6782a_row5_col2\" class=\"data row5 col2\" >0.000000</td>\n",
       "      <td id=\"T_6782a_row5_col3\" class=\"data row5 col3\" >0.150000</td>\n",
       "      <td id=\"T_6782a_row5_col4\" class=\"data row5 col4\" >0.000000</td>\n",
       "      <td id=\"T_6782a_row5_col5\" class=\"data row5 col5\" >0.000000</td>\n",
       "      <td id=\"T_6782a_row5_col6\" class=\"data row5 col6\" >0.060000</td>\n",
       "      <td id=\"T_6782a_row5_col7\" class=\"data row5 col7\" >0.050000</td>\n",
       "      <td id=\"T_6782a_row5_col8\" class=\"data row5 col8\" >0.020000</td>\n",
       "    </tr>\n",
       "    <tr>\n",
       "      <th id=\"T_6782a_level0_row6\" class=\"row_heading level0 row6\" >proteines</th>\n",
       "      <td id=\"T_6782a_row6_col0\" class=\"data row6 col0\" >0.000000</td>\n",
       "      <td id=\"T_6782a_row6_col1\" class=\"data row6 col1\" >0.150000</td>\n",
       "      <td id=\"T_6782a_row6_col2\" class=\"data row6 col2\" >0.000000</td>\n",
       "      <td id=\"T_6782a_row6_col3\" class=\"data row6 col3\" >0.000000</td>\n",
       "      <td id=\"T_6782a_row6_col4\" class=\"data row6 col4\" >0.840000</td>\n",
       "      <td id=\"T_6782a_row6_col5\" class=\"data row6 col5\" >0.060000</td>\n",
       "      <td id=\"T_6782a_row6_col6\" class=\"data row6 col6\" >0.000000</td>\n",
       "      <td id=\"T_6782a_row6_col7\" class=\"data row6 col7\" >0.000000</td>\n",
       "      <td id=\"T_6782a_row6_col8\" class=\"data row6 col8\" >0.000000</td>\n",
       "    </tr>\n",
       "    <tr>\n",
       "      <th id=\"T_6782a_level0_row7\" class=\"row_heading level0 row7\" >cholesterol</th>\n",
       "      <td id=\"T_6782a_row7_col0\" class=\"data row7 col0\" >0.000000</td>\n",
       "      <td id=\"T_6782a_row7_col1\" class=\"data row7 col1\" >0.080000</td>\n",
       "      <td id=\"T_6782a_row7_col2\" class=\"data row7 col2\" >0.020000</td>\n",
       "      <td id=\"T_6782a_row7_col3\" class=\"data row7 col3\" >0.000000</td>\n",
       "      <td id=\"T_6782a_row7_col4\" class=\"data row7 col4\" >0.650000</td>\n",
       "      <td id=\"T_6782a_row7_col5\" class=\"data row7 col5\" >0.050000</td>\n",
       "      <td id=\"T_6782a_row7_col6\" class=\"data row7 col6\" >0.000000</td>\n",
       "      <td id=\"T_6782a_row7_col7\" class=\"data row7 col7\" >0.000000</td>\n",
       "      <td id=\"T_6782a_row7_col8\" class=\"data row7 col8\" >0.000000</td>\n",
       "    </tr>\n",
       "    <tr>\n",
       "      <th id=\"T_6782a_level0_row8\" class=\"row_heading level0 row8\" >magnesium</th>\n",
       "      <td id=\"T_6782a_row8_col0\" class=\"data row8 col0\" >0.000000</td>\n",
       "      <td id=\"T_6782a_row8_col1\" class=\"data row8 col1\" >0.870000</td>\n",
       "      <td id=\"T_6782a_row8_col2\" class=\"data row8 col2\" >0.000000</td>\n",
       "      <td id=\"T_6782a_row8_col3\" class=\"data row8 col3\" >0.000000</td>\n",
       "      <td id=\"T_6782a_row8_col4\" class=\"data row8 col4\" >0.610000</td>\n",
       "      <td id=\"T_6782a_row8_col5\" class=\"data row8 col5\" >0.020000</td>\n",
       "      <td id=\"T_6782a_row8_col6\" class=\"data row8 col6\" >0.000000</td>\n",
       "      <td id=\"T_6782a_row8_col7\" class=\"data row8 col7\" >0.000000</td>\n",
       "      <td id=\"T_6782a_row8_col8\" class=\"data row8 col8\" >0.000000</td>\n",
       "    </tr>\n",
       "  </tbody>\n",
       "</table>\n"
      ],
      "text/plain": [
       "<pandas.io.formats.style.Styler at 0x7f8cfedd76a0>"
      ]
     },
     "execution_count": 12,
     "metadata": {},
     "output_type": "execute_result"
    }
   ],
   "source": [
    "# Création d'une palette de couleurs à partir de la couleur \"green\" avec la fonction light_palette de Seaborn\n",
    "# La palette sera utilisée pour la coloration de fond dans le style du DataFrame\n",
    "# Documentation Seaborn pour light_palette: https://seaborn.pydata.org/generated/seaborn.light_palette.html\n",
    "cm = sns.light_palette(\"green\", as_cmap=True)\n",
    "\n",
    "# Arrondissement des valeurs du DataFrame df_pvalue à 2 décimales\n",
    "df_pvalue = df_pvalue.round(2)\n",
    "\n",
    "# Application d'une coloration de fond gradient à partir de la palette de couleurs définie\n",
    "# Utilisation de la méthode background_gradient du style Pandas DataFrame\n",
    "# Cette méthode applique une coloration de fond en fonction des valeurs du DataFrame\n",
    "# Documentation Pandas pour background_gradient: https://pandas.pydata.org/pandas-docs/stable/user_guide/style.html#Building-styles\n",
    "df_pvalue.style.background_gradient(cmap=cm)\n"
   ]
  },
  {
   "cell_type": "markdown",
   "metadata": {},
   "source": [
    "💡 Obtient-on les mêmes p-value si on centre et on réduit ?"
   ]
  },
  {
   "cell_type": "markdown",
   "metadata": {},
   "source": [
    "On centre et on réduit"
   ]
  },
  {
   "cell_type": "code",
   "execution_count": 13,
   "metadata": {},
   "outputs": [
    {
     "data": {
      "text/html": [
       "<div>\n",
       "<style scoped>\n",
       "    .dataframe tbody tr th:only-of-type {\n",
       "        vertical-align: middle;\n",
       "    }\n",
       "\n",
       "    .dataframe tbody tr th {\n",
       "        vertical-align: top;\n",
       "    }\n",
       "\n",
       "    .dataframe thead th {\n",
       "        text-align: right;\n",
       "    }\n",
       "</style>\n",
       "<table border=\"1\" class=\"dataframe\">\n",
       "  <thead>\n",
       "    <tr style=\"text-align: right;\">\n",
       "      <th></th>\n",
       "      <th>calories</th>\n",
       "      <th>sodium</th>\n",
       "      <th>calcium</th>\n",
       "      <th>lipides</th>\n",
       "      <th>retinol</th>\n",
       "      <th>folates</th>\n",
       "      <th>proteines</th>\n",
       "      <th>cholesterol</th>\n",
       "      <th>magnesium</th>\n",
       "    </tr>\n",
       "  </thead>\n",
       "  <tbody>\n",
       "    <tr>\n",
       "      <th>0</th>\n",
       "      <td>0.154630</td>\n",
       "      <td>1.342968</td>\n",
       "      <td>-1.587464</td>\n",
       "      <td>0.268066</td>\n",
       "      <td>-0.672290</td>\n",
       "      <td>1.500911</td>\n",
       "      <td>0.121519</td>\n",
       "      <td>-0.165242</td>\n",
       "      <td>-0.626309</td>\n",
       "    </tr>\n",
       "    <tr>\n",
       "      <th>1</th>\n",
       "      <td>0.154630</td>\n",
       "      <td>0.261393</td>\n",
       "      <td>0.337679</td>\n",
       "      <td>0.117846</td>\n",
       "      <td>-0.162662</td>\n",
       "      <td>-0.573843</td>\n",
       "      <td>0.355480</td>\n",
       "      <td>-0.165242</td>\n",
       "      <td>0.003101</td>\n",
       "    </tr>\n",
       "    <tr>\n",
       "      <th>2</th>\n",
       "      <td>1.117917</td>\n",
       "      <td>-0.918507</td>\n",
       "      <td>1.033649</td>\n",
       "      <td>1.144354</td>\n",
       "      <td>-0.533301</td>\n",
       "      <td>-1.025253</td>\n",
       "      <td>0.940383</td>\n",
       "      <td>1.636269</td>\n",
       "      <td>1.261920</td>\n",
       "    </tr>\n",
       "  </tbody>\n",
       "</table>\n",
       "</div>"
      ],
      "text/plain": [
       "   calories    sodium   calcium   lipides   retinol   folates  proteines  \\\n",
       "0  0.154630  1.342968 -1.587464  0.268066 -0.672290  1.500911   0.121519   \n",
       "1  0.154630  0.261393  0.337679  0.117846 -0.162662 -0.573843   0.355480   \n",
       "2  1.117917 -0.918507  1.033649  1.144354 -0.533301 -1.025253   0.940383   \n",
       "\n",
       "   cholesterol  magnesium  \n",
       "0    -0.165242  -0.626309  \n",
       "1    -0.165242   0.003101  \n",
       "2     1.636269   1.261920  "
      ]
     },
     "execution_count": 13,
     "metadata": {},
     "output_type": "execute_result"
    }
   ],
   "source": [
    "# Importation de la classe StandardScaler depuis le module preprocessing de scikit-learn\n",
    "from sklearn.preprocessing import StandardScaler\n",
    "\n",
    "# Création d'une instance de StandardScaler, qui sera utilisée pour normaliser les données\n",
    "scaler = StandardScaler()\n",
    "\n",
    "# Application de la transformation de normalisation aux données du DataFrame df\n",
    "# fit_transform ajuste le scaler aux données et normalise celles-ci simultanément\n",
    "# Le résultat est un tableau NumPy contenant les données normalisées\n",
    "df_CR = scaler.fit_transform(df)\n",
    "\n",
    "# Création d'un nouveau DataFrame à partir des données normalisées\n",
    "# Les colonnes du DataFrame original df sont conservées, et les données sont étiquetées avec les mêmes noms de colonnes\n",
    "df_CR = pd.DataFrame(df_CR, columns=df.columns)\n",
    "\n",
    "# Affichage des trois premières lignes du DataFrame normalisé\n",
    "df_CR.head(3)\n"
   ]
  },
  {
   "cell_type": "markdown",
   "metadata": {},
   "source": [
    "On calcule les test de corrélation"
   ]
  },
  {
   "cell_type": "code",
   "execution_count": 14,
   "metadata": {},
   "outputs": [],
   "source": [
    "# Initialisation d'un tableau numpy de dimensions (nombre de colonnes, nombre de colonnes)\n",
    "# pour stocker les valeurs p (p-value) de la corrélation de Pearson entre toutes les paires de colonnes du DataFrame normalisé df_CR\n",
    "a = np.empty((len(df.columns), len(df.columns),))\n",
    "\n",
    "# Boucle pour calculer les valeurs p (p-value) de la corrélation de Pearson entre toutes les paires de colonnes du DataFrame normalisé df_CR\n",
    "for i in range(0, len(df.columns)):\n",
    "    for j in range(0, len(df.columns)):\n",
    "        # Utilisation de la fonction pearsonr du module scipy.stats pour calculer le coefficient de corrélation de Pearson et la valeur p\n",
    "        # La valeur p est stockée dans la deuxième position du tuple retourné par pearsonr, d'où [1]\n",
    "        a[i, j] = pearsonr(df_CR.iloc[:, i], df_CR.iloc[:, j])[1]\n",
    "\n",
    "# Création d'un DataFrame Pandas à partir du tableau numpy contenant les valeurs p\n",
    "# Arrondissement des valeurs à 5 décimales\n",
    "df_CR_pvalue = round(pd.DataFrame(a, columns=df.columns, index=df.columns), 5)\n"
   ]
  },
  {
   "cell_type": "markdown",
   "metadata": {},
   "source": [
    "On affiche la matrice des p-value"
   ]
  },
  {
   "cell_type": "code",
   "execution_count": 15,
   "metadata": {},
   "outputs": [
    {
     "data": {
      "text/html": [
       "<style type=\"text/css\">\n",
       "#T_d5565_row0_col0, #T_d5565_row0_col3, #T_d5565_row0_col6, #T_d5565_row0_col7, #T_d5565_row0_col8, #T_d5565_row1_col1, #T_d5565_row2_col2, #T_d5565_row2_col5, #T_d5565_row2_col6, #T_d5565_row2_col8, #T_d5565_row3_col0, #T_d5565_row3_col3, #T_d5565_row3_col6, #T_d5565_row3_col7, #T_d5565_row3_col8, #T_d5565_row4_col4, #T_d5565_row4_col5, #T_d5565_row5_col2, #T_d5565_row5_col4, #T_d5565_row5_col5, #T_d5565_row6_col0, #T_d5565_row6_col2, #T_d5565_row6_col3, #T_d5565_row6_col6, #T_d5565_row6_col7, #T_d5565_row6_col8, #T_d5565_row7_col0, #T_d5565_row7_col3, #T_d5565_row7_col6, #T_d5565_row7_col7, #T_d5565_row7_col8, #T_d5565_row8_col0, #T_d5565_row8_col2, #T_d5565_row8_col3, #T_d5565_row8_col6, #T_d5565_row8_col7, #T_d5565_row8_col8 {\n",
       "  background-color: #ebf3eb;\n",
       "  color: #000000;\n",
       "}\n",
       "#T_d5565_row0_col1, #T_d5565_row0_col2, #T_d5565_row5_col8, #T_d5565_row7_col2 {\n",
       "  background-color: #e6f1e6;\n",
       "  color: #000000;\n",
       "}\n",
       "#T_d5565_row0_col4 {\n",
       "  background-color: #178b17;\n",
       "  color: #f1f1f1;\n",
       "}\n",
       "#T_d5565_row0_col5 {\n",
       "  background-color: #beddbe;\n",
       "  color: #000000;\n",
       "}\n",
       "#T_d5565_row1_col0, #T_d5565_row2_col0 {\n",
       "  background-color: #e5f0e5;\n",
       "  color: #000000;\n",
       "}\n",
       "#T_d5565_row1_col2, #T_d5565_row1_col5, #T_d5565_row1_col8, #T_d5565_row2_col1, #T_d5565_row3_col4, #T_d5565_row4_col0, #T_d5565_row4_col3, #T_d5565_row4_col6, #T_d5565_row4_col7 {\n",
       "  background-color: #008000;\n",
       "  color: #f1f1f1;\n",
       "}\n",
       "#T_d5565_row1_col3, #T_d5565_row3_col1 {\n",
       "  background-color: #e9f2e9;\n",
       "  color: #000000;\n",
       "}\n",
       "#T_d5565_row1_col4 {\n",
       "  background-color: #75b975;\n",
       "  color: #f1f1f1;\n",
       "}\n",
       "#T_d5565_row1_col6 {\n",
       "  background-color: #c1dfc1;\n",
       "  color: #000000;\n",
       "}\n",
       "#T_d5565_row1_col7 {\n",
       "  background-color: #cee5ce;\n",
       "  color: #000000;\n",
       "}\n",
       "#T_d5565_row2_col3, #T_d5565_row5_col7 {\n",
       "  background-color: #d9ead9;\n",
       "  color: #000000;\n",
       "}\n",
       "#T_d5565_row2_col4 {\n",
       "  background-color: #c9e3c9;\n",
       "  color: #000000;\n",
       "}\n",
       "#T_d5565_row2_col7 {\n",
       "  background-color: #e4f0e4;\n",
       "  color: #000000;\n",
       "}\n",
       "#T_d5565_row3_col2, #T_d5565_row5_col6 {\n",
       "  background-color: #daebda;\n",
       "  color: #000000;\n",
       "}\n",
       "#T_d5565_row3_col5 {\n",
       "  background-color: #a1cfa1;\n",
       "  color: #000000;\n",
       "}\n",
       "#T_d5565_row4_col1 {\n",
       "  background-color: #7cbd7c;\n",
       "  color: #000000;\n",
       "}\n",
       "#T_d5565_row4_col2 {\n",
       "  background-color: #cce4cc;\n",
       "  color: #000000;\n",
       "}\n",
       "#T_d5565_row4_col8 {\n",
       "  background-color: #46a246;\n",
       "  color: #f1f1f1;\n",
       "}\n",
       "#T_d5565_row5_col0 {\n",
       "  background-color: #d2e7d2;\n",
       "  color: #000000;\n",
       "}\n",
       "#T_d5565_row5_col1 {\n",
       "  background-color: #78bb78;\n",
       "  color: #f1f1f1;\n",
       "}\n",
       "#T_d5565_row5_col3 {\n",
       "  background-color: #c5e0c5;\n",
       "  color: #000000;\n",
       "}\n",
       "#T_d5565_row6_col1 {\n",
       "  background-color: #c7e1c7;\n",
       "  color: #000000;\n",
       "}\n",
       "#T_d5565_row6_col4 {\n",
       "  background-color: #148a14;\n",
       "  color: #f1f1f1;\n",
       "}\n",
       "#T_d5565_row6_col5 {\n",
       "  background-color: #cde5cd;\n",
       "  color: #000000;\n",
       "}\n",
       "#T_d5565_row7_col1 {\n",
       "  background-color: #d8ead8;\n",
       "  color: #000000;\n",
       "}\n",
       "#T_d5565_row7_col4 {\n",
       "  background-color: #45a245;\n",
       "  color: #f1f1f1;\n",
       "}\n",
       "#T_d5565_row7_col5 {\n",
       "  background-color: #d3e7d3;\n",
       "  color: #000000;\n",
       "}\n",
       "#T_d5565_row8_col1 {\n",
       "  background-color: #1a8d1a;\n",
       "  color: #f1f1f1;\n",
       "}\n",
       "#T_d5565_row8_col4 {\n",
       "  background-color: #4fa74f;\n",
       "  color: #f1f1f1;\n",
       "}\n",
       "#T_d5565_row8_col5 {\n",
       "  background-color: #e1eee1;\n",
       "  color: #000000;\n",
       "}\n",
       "</style>\n",
       "<table id=\"T_d5565\">\n",
       "  <thead>\n",
       "    <tr>\n",
       "      <th class=\"blank level0\" >&nbsp;</th>\n",
       "      <th id=\"T_d5565_level0_col0\" class=\"col_heading level0 col0\" >calories</th>\n",
       "      <th id=\"T_d5565_level0_col1\" class=\"col_heading level0 col1\" >sodium</th>\n",
       "      <th id=\"T_d5565_level0_col2\" class=\"col_heading level0 col2\" >calcium</th>\n",
       "      <th id=\"T_d5565_level0_col3\" class=\"col_heading level0 col3\" >lipides</th>\n",
       "      <th id=\"T_d5565_level0_col4\" class=\"col_heading level0 col4\" >retinol</th>\n",
       "      <th id=\"T_d5565_level0_col5\" class=\"col_heading level0 col5\" >folates</th>\n",
       "      <th id=\"T_d5565_level0_col6\" class=\"col_heading level0 col6\" >proteines</th>\n",
       "      <th id=\"T_d5565_level0_col7\" class=\"col_heading level0 col7\" >cholesterol</th>\n",
       "      <th id=\"T_d5565_level0_col8\" class=\"col_heading level0 col8\" >magnesium</th>\n",
       "    </tr>\n",
       "  </thead>\n",
       "  <tbody>\n",
       "    <tr>\n",
       "      <th id=\"T_d5565_level0_row0\" class=\"row_heading level0 row0\" >calories</th>\n",
       "      <td id=\"T_d5565_row0_col0\" class=\"data row0 col0\" >0.000000</td>\n",
       "      <td id=\"T_d5565_row0_col1\" class=\"data row0 col1\" >0.020000</td>\n",
       "      <td id=\"T_d5565_row0_col2\" class=\"data row0 col2\" >0.020000</td>\n",
       "      <td id=\"T_d5565_row0_col3\" class=\"data row0 col3\" >0.000000</td>\n",
       "      <td id=\"T_d5565_row0_col4\" class=\"data row0 col4\" >0.830000</td>\n",
       "      <td id=\"T_d5565_row0_col5\" class=\"data row0 col5\" >0.090000</td>\n",
       "      <td id=\"T_d5565_row0_col6\" class=\"data row0 col6\" >0.000000</td>\n",
       "      <td id=\"T_d5565_row0_col7\" class=\"data row0 col7\" >0.000000</td>\n",
       "      <td id=\"T_d5565_row0_col8\" class=\"data row0 col8\" >0.000000</td>\n",
       "    </tr>\n",
       "    <tr>\n",
       "      <th id=\"T_d5565_level0_row1\" class=\"row_heading level0 row1\" >sodium</th>\n",
       "      <td id=\"T_d5565_row1_col0\" class=\"data row1 col0\" >0.020000</td>\n",
       "      <td id=\"T_d5565_row1_col1\" class=\"data row1 col1\" >0.000000</td>\n",
       "      <td id=\"T_d5565_row1_col2\" class=\"data row1 col2\" >0.980000</td>\n",
       "      <td id=\"T_d5565_row1_col3\" class=\"data row1 col3\" >0.010000</td>\n",
       "      <td id=\"T_d5565_row1_col4\" class=\"data row1 col4\" >0.460000</td>\n",
       "      <td id=\"T_d5565_row1_col5\" class=\"data row1 col5\" >0.480000</td>\n",
       "      <td id=\"T_d5565_row1_col6\" class=\"data row1 col6\" >0.150000</td>\n",
       "      <td id=\"T_d5565_row1_col7\" class=\"data row1 col7\" >0.080000</td>\n",
       "      <td id=\"T_d5565_row1_col8\" class=\"data row1 col8\" >0.870000</td>\n",
       "    </tr>\n",
       "    <tr>\n",
       "      <th id=\"T_d5565_level0_row2\" class=\"row_heading level0 row2\" >calcium</th>\n",
       "      <td id=\"T_d5565_row2_col0\" class=\"data row2 col0\" >0.020000</td>\n",
       "      <td id=\"T_d5565_row2_col1\" class=\"data row2 col1\" >0.980000</td>\n",
       "      <td id=\"T_d5565_row2_col2\" class=\"data row2 col2\" >0.000000</td>\n",
       "      <td id=\"T_d5565_row2_col3\" class=\"data row2 col3\" >0.070000</td>\n",
       "      <td id=\"T_d5565_row2_col4\" class=\"data row2 col4\" >0.130000</td>\n",
       "      <td id=\"T_d5565_row2_col5\" class=\"data row2 col5\" >0.000000</td>\n",
       "      <td id=\"T_d5565_row2_col6\" class=\"data row2 col6\" >0.000000</td>\n",
       "      <td id=\"T_d5565_row2_col7\" class=\"data row2 col7\" >0.020000</td>\n",
       "      <td id=\"T_d5565_row2_col8\" class=\"data row2 col8\" >0.000000</td>\n",
       "    </tr>\n",
       "    <tr>\n",
       "      <th id=\"T_d5565_level0_row3\" class=\"row_heading level0 row3\" >lipides</th>\n",
       "      <td id=\"T_d5565_row3_col0\" class=\"data row3 col0\" >0.000000</td>\n",
       "      <td id=\"T_d5565_row3_col1\" class=\"data row3 col1\" >0.010000</td>\n",
       "      <td id=\"T_d5565_row3_col2\" class=\"data row3 col2\" >0.070000</td>\n",
       "      <td id=\"T_d5565_row3_col3\" class=\"data row3 col3\" >0.000000</td>\n",
       "      <td id=\"T_d5565_row3_col4\" class=\"data row3 col4\" >0.920000</td>\n",
       "      <td id=\"T_d5565_row3_col5\" class=\"data row3 col5\" >0.150000</td>\n",
       "      <td id=\"T_d5565_row3_col6\" class=\"data row3 col6\" >0.000000</td>\n",
       "      <td id=\"T_d5565_row3_col7\" class=\"data row3 col7\" >0.000000</td>\n",
       "      <td id=\"T_d5565_row3_col8\" class=\"data row3 col8\" >0.000000</td>\n",
       "    </tr>\n",
       "    <tr>\n",
       "      <th id=\"T_d5565_level0_row4\" class=\"row_heading level0 row4\" >retinol</th>\n",
       "      <td id=\"T_d5565_row4_col0\" class=\"data row4 col0\" >0.830000</td>\n",
       "      <td id=\"T_d5565_row4_col1\" class=\"data row4 col1\" >0.460000</td>\n",
       "      <td id=\"T_d5565_row4_col2\" class=\"data row4 col2\" >0.130000</td>\n",
       "      <td id=\"T_d5565_row4_col3\" class=\"data row4 col3\" >0.920000</td>\n",
       "      <td id=\"T_d5565_row4_col4\" class=\"data row4 col4\" >0.000000</td>\n",
       "      <td id=\"T_d5565_row4_col5\" class=\"data row4 col5\" >0.000000</td>\n",
       "      <td id=\"T_d5565_row4_col6\" class=\"data row4 col6\" >0.840000</td>\n",
       "      <td id=\"T_d5565_row4_col7\" class=\"data row4 col7\" >0.650000</td>\n",
       "      <td id=\"T_d5565_row4_col8\" class=\"data row4 col8\" >0.610000</td>\n",
       "    </tr>\n",
       "    <tr>\n",
       "      <th id=\"T_d5565_level0_row5\" class=\"row_heading level0 row5\" >folates</th>\n",
       "      <td id=\"T_d5565_row5_col0\" class=\"data row5 col0\" >0.090000</td>\n",
       "      <td id=\"T_d5565_row5_col1\" class=\"data row5 col1\" >0.480000</td>\n",
       "      <td id=\"T_d5565_row5_col2\" class=\"data row5 col2\" >0.000000</td>\n",
       "      <td id=\"T_d5565_row5_col3\" class=\"data row5 col3\" >0.150000</td>\n",
       "      <td id=\"T_d5565_row5_col4\" class=\"data row5 col4\" >0.000000</td>\n",
       "      <td id=\"T_d5565_row5_col5\" class=\"data row5 col5\" >0.000000</td>\n",
       "      <td id=\"T_d5565_row5_col6\" class=\"data row5 col6\" >0.060000</td>\n",
       "      <td id=\"T_d5565_row5_col7\" class=\"data row5 col7\" >0.050000</td>\n",
       "      <td id=\"T_d5565_row5_col8\" class=\"data row5 col8\" >0.020000</td>\n",
       "    </tr>\n",
       "    <tr>\n",
       "      <th id=\"T_d5565_level0_row6\" class=\"row_heading level0 row6\" >proteines</th>\n",
       "      <td id=\"T_d5565_row6_col0\" class=\"data row6 col0\" >0.000000</td>\n",
       "      <td id=\"T_d5565_row6_col1\" class=\"data row6 col1\" >0.150000</td>\n",
       "      <td id=\"T_d5565_row6_col2\" class=\"data row6 col2\" >0.000000</td>\n",
       "      <td id=\"T_d5565_row6_col3\" class=\"data row6 col3\" >0.000000</td>\n",
       "      <td id=\"T_d5565_row6_col4\" class=\"data row6 col4\" >0.840000</td>\n",
       "      <td id=\"T_d5565_row6_col5\" class=\"data row6 col5\" >0.060000</td>\n",
       "      <td id=\"T_d5565_row6_col6\" class=\"data row6 col6\" >0.000000</td>\n",
       "      <td id=\"T_d5565_row6_col7\" class=\"data row6 col7\" >0.000000</td>\n",
       "      <td id=\"T_d5565_row6_col8\" class=\"data row6 col8\" >0.000000</td>\n",
       "    </tr>\n",
       "    <tr>\n",
       "      <th id=\"T_d5565_level0_row7\" class=\"row_heading level0 row7\" >cholesterol</th>\n",
       "      <td id=\"T_d5565_row7_col0\" class=\"data row7 col0\" >0.000000</td>\n",
       "      <td id=\"T_d5565_row7_col1\" class=\"data row7 col1\" >0.080000</td>\n",
       "      <td id=\"T_d5565_row7_col2\" class=\"data row7 col2\" >0.020000</td>\n",
       "      <td id=\"T_d5565_row7_col3\" class=\"data row7 col3\" >0.000000</td>\n",
       "      <td id=\"T_d5565_row7_col4\" class=\"data row7 col4\" >0.650000</td>\n",
       "      <td id=\"T_d5565_row7_col5\" class=\"data row7 col5\" >0.050000</td>\n",
       "      <td id=\"T_d5565_row7_col6\" class=\"data row7 col6\" >0.000000</td>\n",
       "      <td id=\"T_d5565_row7_col7\" class=\"data row7 col7\" >0.000000</td>\n",
       "      <td id=\"T_d5565_row7_col8\" class=\"data row7 col8\" >0.000000</td>\n",
       "    </tr>\n",
       "    <tr>\n",
       "      <th id=\"T_d5565_level0_row8\" class=\"row_heading level0 row8\" >magnesium</th>\n",
       "      <td id=\"T_d5565_row8_col0\" class=\"data row8 col0\" >0.000000</td>\n",
       "      <td id=\"T_d5565_row8_col1\" class=\"data row8 col1\" >0.870000</td>\n",
       "      <td id=\"T_d5565_row8_col2\" class=\"data row8 col2\" >0.000000</td>\n",
       "      <td id=\"T_d5565_row8_col3\" class=\"data row8 col3\" >0.000000</td>\n",
       "      <td id=\"T_d5565_row8_col4\" class=\"data row8 col4\" >0.610000</td>\n",
       "      <td id=\"T_d5565_row8_col5\" class=\"data row8 col5\" >0.020000</td>\n",
       "      <td id=\"T_d5565_row8_col6\" class=\"data row8 col6\" >0.000000</td>\n",
       "      <td id=\"T_d5565_row8_col7\" class=\"data row8 col7\" >0.000000</td>\n",
       "      <td id=\"T_d5565_row8_col8\" class=\"data row8 col8\" >0.000000</td>\n",
       "    </tr>\n",
       "  </tbody>\n",
       "</table>\n"
      ],
      "text/plain": [
       "<pandas.io.formats.style.Styler at 0x7f8cff0d7460>"
      ]
     },
     "execution_count": 15,
     "metadata": {},
     "output_type": "execute_result"
    }
   ],
   "source": [
    "# Création d'une palette de couleurs à partir de la couleur \"green\" avec la fonction light_palette de Seaborn\n",
    "# La palette sera utilisée pour la coloration de fond dans le style du DataFrame\n",
    "# Documentation Seaborn pour light_palette: https://seaborn.pydata.org/generated/seaborn.light_palette.html\n",
    "cm = sns.light_palette(\"green\", as_cmap=True)\n",
    "\n",
    "# Arrondissement des valeurs du DataFrame df_CR_pvalue à 2 décimales\n",
    "df_CR_pvalue = df_CR_pvalue.round(2)\n",
    "\n",
    "# Application d'une coloration de fond gradient à partir de la palette de couleurs définie\n",
    "# Utilisation de la méthode background_gradient du style Pandas DataFrame\n",
    "# Cette méthode applique une coloration de fond en fonction des valeurs du DataFrame\n",
    "# Documentation Pandas pour background_gradient: https://pandas.pydata.org/pandas-docs/stable/user_guide/style.html#Building-styles\n",
    "df_CR_pvalue.style.background_gradient(cmap=cm)\n"
   ]
  },
  {
   "cell_type": "markdown",
   "metadata": {},
   "source": [
    "💡 On obtient bien les mêmes p-value si on centre et on réduit"
   ]
  },
  {
   "cell_type": "markdown",
   "metadata": {},
   "source": [
    "## ⛔ Cas de relation non linéaire"
   ]
  },
  {
   "cell_type": "markdown",
   "metadata": {},
   "source": [
    "Les différents coefficients de corrélation sont beaucoup plus adaptés aux relations linéaires. C’est pourquoi il est important de toujours visualiser les distributions.\n",
    "\n",
    "Plus d'infos [ici](http://grasland.script.univ-paris-diderot.fr/STAT98/stat98_6/stat98_6.htm)"
   ]
  },
  {
   "cell_type": "code",
   "execution_count": 16,
   "metadata": {},
   "outputs": [],
   "source": [
    "# Importation de la fonction make_regression depuis le module datasets de scikit-learn\n",
    "# make_regression est utilisée pour générer un ensemble de données de régression avec des relations linéaires\n",
    "# Documentation scikit-learn pour make_regression: https://scikit-learn.org/stable/modules/generated/sklearn.datasets.make_regression.html\n",
    "from sklearn.datasets import make_regression\n",
    "\n",
    "# Importation de la fonction make_circles depuis le module datasets de scikit-learn\n",
    "# make_circles est utilisée pour générer un ensemble de données avec des cercles concentriques, souvent utilisé pour des problèmes de classification non linéaires\n",
    "# Documentation scikit-learn pour make_circles: https://scikit-learn.org/stable/modules/generated/sklearn.datasets.make_circles.html\n",
    "from sklearn.datasets import make_circles\n",
    "\n",
    "# Importation des fonctions kendalltau et spearmanr du module stats de scipy\n",
    "# kendalltau est utilisée pour calculer la corrélation de Kendall\n",
    "# spearmanr est utilisée pour calculer la corrélation de Spearman\n",
    "# Documentation scipy.stats pour kendalltau: https://docs.scipy.org/doc/scipy/reference/generated/scipy.stats.kendalltau.html\n",
    "# Documentation scipy.stats pour spearmanr: https://docs.scipy.org/doc/scipy/reference/generated/scipy.stats.spearmanr.html\n",
    "from scipy.stats import kendalltau, spearmanr\n"
   ]
  },
  {
   "cell_type": "markdown",
   "metadata": {},
   "source": [
    "### Cas d'une relation linéaire et monotone"
   ]
  },
  {
   "cell_type": "code",
   "execution_count": 23,
   "metadata": {},
   "outputs": [
    {
     "data": {
      "image/png": "[encoded data removed]",
      "text/plain": [
       "<Figure size 1000x400 with 1 Axes>"
      ]
     },
     "metadata": {},
     "output_type": "display_data"
    }
   ],
   "source": [
    "# Génération d'un ensemble de données de régression avec make_regression de scikit-learn\n",
    "# n_samples définit le nombre de points de données\n",
    "# n_features définit le nombre de caractéristiques (variables indépendantes)\n",
    "# n_informative définit le nombre de caractéristiques utiles pour la prédiction\n",
    "# noise ajoute du bruit aux données pour simuler des variations\n",
    "# random_state fixe la séquence de nombres aléatoires pour la reproductibilité\n",
    "# Documentation scikit-learn pour make_regression: https://scikit-learn.org/stable/modules/generated/sklearn.datasets.make_regression.html\n",
    "X, y = make_regression(n_samples=1000, n_features=1, n_informative=1, noise=50, random_state=0)\n",
    "\n",
    "# Création d'un nuage de points (scatter plot) avec matplotlib\n",
    "# Les points sont définis par les données générées X et y\n",
    "# edgecolor='k' spécifie une bordure noire autour des points\n",
    "# marker='.' spécifie que les points sont représentés par des points (petits cercles)\n",
    "# Documentation matplotlib pour scatter: https://matplotlib.org/stable/api/_as_gen/matplotlib.pyplot.scatter.html\n",
    "plt.scatter(X, y, edgecolor='k', marker='.')\n",
    "\n",
    "# Création de deux DataFrames pandas à partir des données générées X et y\n",
    "# Les colonnes sont nommées 'x' et 'y' respectivement\n",
    "# Documentation pandas pour DataFrame: https://pandas.pydata.org/pandas-docs/stable/reference/api/pandas.DataFrame.html\n",
    "x = pd.DataFrame(X, columns=['x'])\n",
    "y = pd.DataFrame(y, columns=['y'])\n"
   ]
  },
  {
   "cell_type": "code",
   "execution_count": 24,
   "metadata": {},
   "outputs": [
    {
     "name": "stdout",
     "output_type": "stream",
     "text": [
      "Pearson PearsonRResult(statistic=0.8522914621548177, pvalue=3.9071630180850793e-283)\n",
      "SignificanceResult(statistic=0.650034034034034, pvalue=4.861439501213743e-208)\n",
      "SignificanceResult(statistic=0.8403487803487804, pvalue=1.1110733387280784e-267)\n"
     ]
    }
   ],
   "source": [
    "# Calcul de la corrélation de Pearson entre les colonnes 'x' et 'y' des DataFrames x et y\n",
    "# Utilisation de la fonction pearsonr du module scipy.stats\n",
    "# La fonction pearsonr renvoie un tuple contenant le coefficient de corrélation de Pearson et la valeur p associée\n",
    "print(\"Pearson \" + str(pearsonr(x.x, y.y)))\n",
    "\n",
    "# Calcul de la corrélation de Kendall entre les colonnes 'x' et 'y' des DataFrames x et y\n",
    "# Utilisation de la fonction kendalltau du module scipy.stats\n",
    "# La fonction kendalltau renvoie un tuple contenant le coefficient de corrélation de Kendall et la valeur p associée\n",
    "print(kendalltau(x.x, y.y))\n",
    "\n",
    "# Calcul de la corrélation de Spearman entre les colonnes 'x' et 'y' des DataFrames x et y\n",
    "# Utilisation de la fonction spearmanr du module scipy.stats\n",
    "# La fonction spearmanr renvoie un tuple contenant le coefficient de corrélation de Spearman et la valeur p associée\n",
    "print(spearmanr(x.x, y.y))\n"
   ]
  },
  {
   "cell_type": "markdown",
   "metadata": {},
   "source": [
    "### Cas d'une relation non-linéaire et non-monotone"
   ]
  },
  {
   "cell_type": "markdown",
   "metadata": {},
   "source": [
    "La parabole "
   ]
  },
  {
   "cell_type": "code",
   "execution_count": 63,
   "metadata": {},
   "outputs": [
    {
     "data": {
      "image/png": "[encoded data removed]",
      "text/plain": [
       "<Figure size 900x800 with 1 Axes>"
      ]
     },
     "metadata": {},
     "output_type": "display_data"
    },
    {
     "name": "stdout",
     "output_type": "stream",
     "text": [
      "Pearson PearsonRResult(statistic=0.00737568817104714, pvalue=0.9594565841838613)\n",
      "SignificanceResult(statistic=0.02857142857142857, pvalue=0.7696979437812898)\n",
      "SignificanceResult(statistic=0.027130852340936373, pvalue=0.8516401233148823)\n"
     ]
    }
   ],
   "source": [
    "# Sélection des points de données où la valeur de 'y' est inférieure à 0 (X_hyperbole)\n",
    "# Documentation pandas pour la sélection basée sur les conditions: https://pandas.pydata.org/pandas-docs/stable/user_guide/indexing.html#boolean-indexing\n",
    "X_hyperbole = X[X.y < 0]\n",
    "\n",
    "# Création d'une nouvelle figure pour le tracé avec une taille spécifiée\n",
    "# Documentation matplotlib pour figure: https://matplotlib.org/stable/api/_as_gen/matplotlib.pyplot.figure.html\n",
    "fig = plt.figure(figsize=(9, 8))\n",
    "\n",
    "# Création d'un subplot avec une disposition en grille 2x2 et utilisation du premier emplacement (221)\n",
    "# Documentation matplotlib pour subplot: https://matplotlib.org/stable/api/_as_gen/matplotlib.pyplot.subplot.html\n",
    "ax = plt.subplot(221)\n",
    "\n",
    "# Nuage de points pour les données de l'hyperbole (valeurs 'y' < 0) avec un bord noir (edgecolor='k')\n",
    "# Documentation matplotlib pour scatter: https://matplotlib.org/stable/api/_as_gen/matplotlib.pyplot.scatter.html\n",
    "ax.scatter(X_hyperbole.x, X_hyperbole.y, s=50, edgecolor='k')\n",
    "\n",
    "# Affichage de la figure\n",
    "# Documentation matplotlib pour show: https://matplotlib.org/stable/api/_as_gen/matplotlib.pyplot.show.html\n",
    "plt.show()\n",
    "\n",
    "# Calcul de la corrélation de Pearson entre les colonnes 'x' et 'y' des données de l'hyperbole\n",
    "# Documentation scipy.stats pour pearsonr: https://docs.scipy.org/doc/scipy/reference/generated/scipy.stats.pearsonr.html\n",
    "print(\"Pearson \" + str(pearsonr(X_hyperbole.x, X_hyperbole.y)))\n",
    "\n",
    "# Calcul de la corrélation de Kendall entre les colonnes 'x' et 'y' des données de l'hyperbole\n",
    "# Documentation scipy.stats pour kendalltau: https://docs.scipy.org/doc/scipy/reference/generated/scipy.stats.kendalltau.html\n",
    "print(kendalltau(X_hyperbole.x, X_hyperbole.y))\n",
    "\n",
    "# Calcul de la corrélation de Spearman entre les colonnes 'x' et 'y' des données de l'hyperbole\n",
    "# Documentation scipy.stats pour spearmanr: https://docs.scipy.org/doc/scipy/reference/generated/scipy.stats.spearmanr.html\n",
    "print(spearmanr(X_hyperbole.x, X_hyperbole.y))\n"
   ]
  },
  {
   "cell_type": "markdown",
   "metadata": {},
   "source": [
    "Le cercle"
   ]
  },
  {
   "cell_type": "code",
   "execution_count": 26,
   "metadata": {},
   "outputs": [
    {
     "data": {
      "image/png": "[encoded data removed]",
      "text/plain": [
       "<Figure size 900x800 with 1 Axes>"
      ]
     },
     "metadata": {},
     "output_type": "display_data"
    },
    {
     "name": "stdout",
     "output_type": "stream",
     "text": [
      "Pearson PearsonRResult(statistic=-0.0024637898842999467, pvalue=0.9805908411995362)\n",
      "SignificanceResult(statistic=-0.0008080808080808082, pvalue=0.9904954511734626)\n",
      "SignificanceResult(statistic=0.0065406540654065395, pvalue=0.9485045076254706)\n"
     ]
    }
   ],
   "source": [
    "# Génération d'un ensemble de données en forme de cercles concentriques avec make_circles de scikit-learn\n",
    "# n_samples définit le nombre de points de données\n",
    "# factor contrôle la distance entre les cercles concentriques\n",
    "# random_state fixe la séquence de nombres aléatoires pour la reproductibilité\n",
    "# noise ajoute du bruit aux données\n",
    "# La fonction make_circles renvoie un tuple, nous sélectionnons la première partie (X)\n",
    "# Documentation scikit-learn pour make_circles: https://scikit-learn.org/stable/modules/generated/sklearn.datasets.make_circles.html\n",
    "X = make_circles(n_samples=100, factor=0.99, random_state=0, noise=0.05)[0]\n",
    "\n",
    "# Création d'un DataFrame pandas à partir des données générées X avec des colonnes nommées 'x' et 'y'\n",
    "# Documentation pandas pour DataFrame: https://pandas.pydata.org/pandas-docs/stable/reference/api/pandas.DataFrame.html\n",
    "X = pd.DataFrame(X, columns=['x', 'y'])\n",
    "\n",
    "# Création d'une nouvelle figure pour le tracé avec une taille spécifiée\n",
    "# Documentation matplotlib pour figure: https://matplotlib.org/stable/api/_as_gen/matplotlib.pyplot.figure.html\n",
    "fig = plt.figure(figsize=(9, 8))\n",
    "\n",
    "# Création d'un subplot avec une disposition en grille 2x2 et utilisation du premier emplacement (221)\n",
    "# Documentation matplotlib pour subplot: https://matplotlib.org/stable/api/_as_gen/matplotlib.pyplot.subplot.html\n",
    "ax = plt.subplot(221)\n",
    "\n",
    "# Nuage de points pour les données générées avec des cercles concentriques\n",
    "# avec un bord noir (edgecolor='k')\n",
    "# Documentation matplotlib pour scatter: https://matplotlib.org/stable/api/_as_gen/matplotlib.pyplot.scatter.html\n",
    "ax.scatter(X.x, X.y, s=50, edgecolor='k')\n",
    "\n",
    "# Affichage de la figure\n",
    "# Documentation matplotlib pour show: https://matplotlib.org/stable/api/_as_gen/matplotlib.pyplot.show.html\n",
    "plt.show()\n",
    "\n",
    "# Calcul de la corrélation de Pearson entre les colonnes 'x' et 'y' des données générées\n",
    "# Documentation scipy.stats pour pearsonr: https://docs.scipy.org/doc/scipy/reference/generated/scipy.stats.pearsonr.html\n",
    "print(\"Pearson \" + str(pearsonr(X.x, X.y)))\n",
    "\n",
    "# Calcul de la corrélation de Kendall entre les colonnes 'x' et 'y' des données générées\n",
    "# Documentation scipy.stats pour kendalltau: https://docs.scipy.org/doc/scipy/reference/generated/scipy.stats.kendalltau.html\n",
    "print(kendalltau(X.x, X.y))\n",
    "\n",
    "# Calcul de la corrélation de Spearman entre les colonnes 'x' et 'y' des données générées\n",
    "# Documentation scipy.stats pour spearmanr: https://docs.scipy.org/doc/scipy/reference/generated/scipy.stats.spearmanr.html\n",
    "print(spearmanr(X.x, X.y))\n"
   ]
  },
  {
   "cell_type": "markdown",
   "metadata": {},
   "source": [
    "# Test du Khi²"
   ]
  },
  {
   "cell_type": "markdown",
   "metadata": {},
   "source": [
    "L'intérêt du test du Khi² est de mesurer l'indépendance entre deux variables qualitatives à partir du tableau de contingence."
   ]
  },
  {
   "cell_type": "markdown",
   "metadata": {},
   "source": [
    "On travaille sur le jeu de données Titanic 🧊⛴ disponible en [cliquant ici](https://github.com/asardell/statistique-python/tree/master/Dataset)"
   ]
  },
  {
   "cell_type": "code",
   "execution_count": 27,
   "metadata": {},
   "outputs": [
    {
     "data": {
      "text/html": [
       "<div>\n",
       "<style scoped>\n",
       "    .dataframe tbody tr th:only-of-type {\n",
       "        vertical-align: middle;\n",
       "    }\n",
       "\n",
       "    .dataframe tbody tr th {\n",
       "        vertical-align: top;\n",
       "    }\n",
       "\n",
       "    .dataframe thead th {\n",
       "        text-align: right;\n",
       "    }\n",
       "</style>\n",
       "<table border=\"1\" class=\"dataframe\">\n",
       "  <thead>\n",
       "    <tr style=\"text-align: right;\">\n",
       "      <th></th>\n",
       "      <th>Name</th>\n",
       "      <th>PClass</th>\n",
       "      <th>Age</th>\n",
       "      <th>Sex</th>\n",
       "      <th>Survived</th>\n",
       "      <th>SexCode</th>\n",
       "    </tr>\n",
       "  </thead>\n",
       "  <tbody>\n",
       "    <tr>\n",
       "      <th>1</th>\n",
       "      <td>Allen, Miss Elisabeth Walton</td>\n",
       "      <td>1st</td>\n",
       "      <td>29.00</td>\n",
       "      <td>female</td>\n",
       "      <td>1</td>\n",
       "      <td>1</td>\n",
       "    </tr>\n",
       "    <tr>\n",
       "      <th>2</th>\n",
       "      <td>Allison, Miss Helen Loraine</td>\n",
       "      <td>1st</td>\n",
       "      <td>2.00</td>\n",
       "      <td>female</td>\n",
       "      <td>0</td>\n",
       "      <td>1</td>\n",
       "    </tr>\n",
       "    <tr>\n",
       "      <th>3</th>\n",
       "      <td>Allison, Mr Hudson Joshua Creighton</td>\n",
       "      <td>1st</td>\n",
       "      <td>30.00</td>\n",
       "      <td>male</td>\n",
       "      <td>0</td>\n",
       "      <td>0</td>\n",
       "    </tr>\n",
       "    <tr>\n",
       "      <th>4</th>\n",
       "      <td>Allison, Mrs Hudson JC (Bessie Waldo Daniels)</td>\n",
       "      <td>1st</td>\n",
       "      <td>25.00</td>\n",
       "      <td>female</td>\n",
       "      <td>0</td>\n",
       "      <td>1</td>\n",
       "    </tr>\n",
       "    <tr>\n",
       "      <th>5</th>\n",
       "      <td>Allison, Master Hudson Trevor</td>\n",
       "      <td>1st</td>\n",
       "      <td>0.92</td>\n",
       "      <td>male</td>\n",
       "      <td>1</td>\n",
       "      <td>0</td>\n",
       "    </tr>\n",
       "  </tbody>\n",
       "</table>\n",
       "</div>"
      ],
      "text/plain": [
       "                                            Name PClass    Age     Sex  \\\n",
       "1                   Allen, Miss Elisabeth Walton    1st  29.00  female   \n",
       "2                    Allison, Miss Helen Loraine    1st   2.00  female   \n",
       "3            Allison, Mr Hudson Joshua Creighton    1st  30.00    male   \n",
       "4  Allison, Mrs Hudson JC (Bessie Waldo Daniels)    1st  25.00  female   \n",
       "5                  Allison, Master Hudson Trevor    1st   0.92    male   \n",
       "\n",
       "   Survived  SexCode  \n",
       "1         1        1  \n",
       "2         0        1  \n",
       "3         0        0  \n",
       "4         0        1  \n",
       "5         1        0  "
      ]
     },
     "execution_count": 27,
     "metadata": {},
     "output_type": "execute_result"
    }
   ],
   "source": [
    "# Lecture d'un fichier CSV et chargement des données dans un DataFrame pandas\n",
    "# Le chemin du fichier est spécifié avec \"../Dataset/Titanic.csv\"\n",
    "# index_col=0 indique que la première colonne du fichier CSV sera utilisée comme index du DataFrame\n",
    "# Documentation pandas pour read_csv: https://pandas.pydata.org/pandas-docs/stable/reference/api/pandas.read_csv.html\n",
    "df = pd.read_csv(\"../Dataset/Titanic.csv\", index_col=0)\n",
    "\n",
    "# Affichage des cinq premières lignes du DataFrame pour inspection\n",
    "# Documentation pandas pour head: https://pandas.pydata.org/pandas-docs/stable/reference/api/pandas.DataFrame.head.html\n",
    "df.head()\n"
   ]
  },
  {
   "cell_type": "code",
   "execution_count": 28,
   "metadata": {},
   "outputs": [
    {
     "data": {
      "text/html": [
       "<div>\n",
       "<style scoped>\n",
       "    .dataframe tbody tr th:only-of-type {\n",
       "        vertical-align: middle;\n",
       "    }\n",
       "\n",
       "    .dataframe tbody tr th {\n",
       "        vertical-align: top;\n",
       "    }\n",
       "\n",
       "    .dataframe thead th {\n",
       "        text-align: right;\n",
       "    }\n",
       "</style>\n",
       "<table border=\"1\" class=\"dataframe\">\n",
       "  <thead>\n",
       "    <tr style=\"text-align: right;\">\n",
       "      <th>PClass</th>\n",
       "      <th>1st</th>\n",
       "      <th>2nd</th>\n",
       "      <th>3rd</th>\n",
       "    </tr>\n",
       "    <tr>\n",
       "      <th>Survived</th>\n",
       "      <th></th>\n",
       "      <th></th>\n",
       "      <th></th>\n",
       "    </tr>\n",
       "  </thead>\n",
       "  <tbody>\n",
       "    <tr>\n",
       "      <th>0</th>\n",
       "      <td>129</td>\n",
       "      <td>161</td>\n",
       "      <td>573</td>\n",
       "    </tr>\n",
       "    <tr>\n",
       "      <th>1</th>\n",
       "      <td>193</td>\n",
       "      <td>119</td>\n",
       "      <td>138</td>\n",
       "    </tr>\n",
       "  </tbody>\n",
       "</table>\n",
       "</div>"
      ],
      "text/plain": [
       "PClass    1st  2nd  3rd\n",
       "Survived               \n",
       "0         129  161  573\n",
       "1         193  119  138"
      ]
     },
     "execution_count": 28,
     "metadata": {},
     "output_type": "execute_result"
    }
   ],
   "source": [
    "# Création d'une table de contingence (crosstab) entre les colonnes 'Survived' et 'PClass' (passenger class) du DataFrame\n",
    "# La table de contingence représente le nombre d'occurrences pour chaque combinaison de valeurs dans les deux colonnes\n",
    "# Documentation pandas pour crosstab: https://pandas.pydata.org/pandas-docs/stable/reference/api/pandas.crosstab.html\n",
    "df_count = pd.crosstab(df.Survived, df.PClass)\n",
    "\n",
    "# Affichage de la table de contingence\n",
    "df_count\n"
   ]
  },
  {
   "cell_type": "markdown",
   "metadata": {},
   "source": [
    "On pose les hypothèses de départ :\n",
    "\n",
    "* H0 : Variables indépendantes si p-value > 5%\n",
    "* H1 : Variables non indépendantes si p-value < 5%"
   ]
  },
  {
   "cell_type": "markdown",
   "metadata": {},
   "source": [
    "### Survived vs PClass"
   ]
  },
  {
   "cell_type": "code",
   "execution_count": 29,
   "metadata": {},
   "outputs": [],
   "source": [
    "# Importation de la fonction chi2_contingency du module stats de scipy.stats\n",
    "# chi2_contingency est utilisée pour effectuer un test du khi-deux sur une table de contingence\n",
    "# Documentation scipy.stats pour chi2_contingency: https://docs.scipy.org/doc/scipy/reference/generated/scipy.stats.chi2_contingency.html\n",
    "from scipy.stats import chi2_contingency\n",
    "\n",
    "# Application de la fonction chi2_contingency à la table de contingence df_count\n",
    "# La fonction renvoie plusieurs valeurs, dont le Khi2 observé, la valeur p, le degré de liberté et l'effectif théorique\n",
    "Khi2_obs, p_value, ddl, effectif_theorique = chi2_contingency(df_count)\n"
   ]
  },
  {
   "cell_type": "code",
   "execution_count": 30,
   "metadata": {},
   "outputs": [
    {
     "data": {
      "text/plain": [
       "3.852315502424536e-38"
      ]
     },
     "execution_count": 30,
     "metadata": {},
     "output_type": "execute_result"
    }
   ],
   "source": [
    "p_value"
   ]
  },
  {
   "cell_type": "markdown",
   "metadata": {},
   "source": [
    "~H0 : Variables indépendantes si p-value > 5%~\n",
    "<br> H1 : Variables non indépendantes si p-value < 5%\n"
   ]
  },
  {
   "cell_type": "markdown",
   "metadata": {},
   "source": [
    "### Exemple sur des données fictives"
   ]
  },
  {
   "cell_type": "code",
   "execution_count": 31,
   "metadata": {},
   "outputs": [
    {
     "name": "stdout",
     "output_type": "stream",
     "text": [
      "Matrice de contingence (effectifs observés):\n",
      " [[693 886 534 153]\n",
      " [597 696 448  95]]\n",
      "\n",
      "Résultats du test du khi-deux:\n",
      "Khi2 observé: 6.050399610728231\n",
      "Valeur p: 0.1091837556828247\n",
      "Degré de liberté: 3\n",
      "Effectif théorique:\n",
      " [[712.61335934 873.91808874 542.47001463 136.9985373 ]\n",
      " [577.38664066 708.08191126 439.52998537 111.0014627 ]]\n"
     ]
    }
   ],
   "source": [
    "# Importation de la fonction chi2_contingency du module stats de scipy.stats\n",
    "# chi2_contingency est utilisée pour effectuer un test du khi-deux sur une table de contingence\n",
    "# Documentation scipy.stats pour chi2_contingency: https://docs.scipy.org/doc/scipy/reference/generated/scipy.stats.chi2_contingency.html\n",
    "from scipy.stats import chi2_contingency\n",
    "\n",
    "# Création d'une matrice numpy (obs) représentant une table de contingence\n",
    "# La matrice a deux lignes (représentant deux catégories) et quatre colonnes (représentant quatre classes)\n",
    "obs = np.array([[693, 886, 534, 153], [597, 696, 448, 95]])\n",
    "# Affichage de la matrice de contingence (effectifs observés)\n",
    "print(\"Matrice de contingence (effectifs observés):\\n\", obs)\n",
    "\n",
    "# Application de la fonction chi2_contingency à la table de contingence représentée par la matrice 'obs'\n",
    "# La fonction renvoie plusieurs valeurs, notamment le Khi2 observé, la valeur p, le degré de liberté et l'effectif théorique\n",
    "# La fonction réalise un test statistique pour évaluer l'indépendance entre les deux variables catégoriques\n",
    "chi2_result = chi2_contingency(obs)\n",
    "\n",
    "# Affichage des résultats du test du khi-deux\n",
    "print(\"\\nRésultats du test du khi-deux:\")\n",
    "print(\"Khi2 observé:\", chi2_result[0])\n",
    "print(\"Valeur p:\", chi2_result[1])\n",
    "print(\"Degré de liberté:\", chi2_result[2])\n",
    "print(\"Effectif théorique:\\n\", chi2_result[3])\n"
   ]
  },
  {
   "cell_type": "markdown",
   "metadata": {},
   "source": [
    "H0 : Variables indépendantes si p-value > 5%\n",
    "<br> ~H1 : Variables non indépendantes si p-value < 5%~ <br>\n",
    "Si on veut rejeter H0 et prendre H1, j'ai 10,9% de chance de me tromper"
   ]
  },
  {
   "cell_type": "markdown",
   "metadata": {},
   "source": [
    "Le 10,9% correspond à la probabilité de rejeter à tord H0. Comment la calculer ?"
   ]
  },
  {
   "cell_type": "markdown",
   "metadata": {},
   "source": [
    " Lecture dans la table du Chi2"
   ]
  },
  {
   "cell_type": "code",
   "execution_count": 32,
   "metadata": {},
   "outputs": [
    {
     "data": {
      "text/html": [
       "<div>\n",
       "<style scoped>\n",
       "    .dataframe tbody tr th:only-of-type {\n",
       "        vertical-align: middle;\n",
       "    }\n",
       "\n",
       "    .dataframe tbody tr th {\n",
       "        vertical-align: top;\n",
       "    }\n",
       "\n",
       "    .dataframe thead th {\n",
       "        text-align: right;\n",
       "    }\n",
       "</style>\n",
       "<table border=\"1\" class=\"dataframe\">\n",
       "  <thead>\n",
       "    <tr style=\"text-align: right;\">\n",
       "      <th></th>\n",
       "      <th>0.050</th>\n",
       "      <th>0.055</th>\n",
       "      <th>0.060</th>\n",
       "      <th>0.065</th>\n",
       "      <th>0.070</th>\n",
       "      <th>0.075</th>\n",
       "      <th>0.080</th>\n",
       "      <th>0.085</th>\n",
       "      <th>0.090</th>\n",
       "      <th>0.095</th>\n",
       "      <th>0.100</th>\n",
       "      <th>0.105</th>\n",
       "      <th>0.110</th>\n",
       "      <th>0.115</th>\n",
       "      <th>0.120</th>\n",
       "      <th>0.125</th>\n",
       "      <th>0.130</th>\n",
       "      <th>0.135</th>\n",
       "      <th>0.140</th>\n",
       "      <th>0.145</th>\n",
       "    </tr>\n",
       "  </thead>\n",
       "  <tbody>\n",
       "    <tr>\n",
       "      <th>1</th>\n",
       "      <td>3.84146</td>\n",
       "      <td>3.68209</td>\n",
       "      <td>3.53738</td>\n",
       "      <td>3.40498</td>\n",
       "      <td>3.28302</td>\n",
       "      <td>3.17005</td>\n",
       "      <td>3.06490</td>\n",
       "      <td>2.96661</td>\n",
       "      <td>2.87437</td>\n",
       "      <td>2.78754</td>\n",
       "      <td>2.70554</td>\n",
       "      <td>2.62791</td>\n",
       "      <td>2.55422</td>\n",
       "      <td>2.48413</td>\n",
       "      <td>2.41732</td>\n",
       "      <td>2.35353</td>\n",
       "      <td>2.29250</td>\n",
       "      <td>2.23405</td>\n",
       "      <td>2.17796</td>\n",
       "      <td>2.12408</td>\n",
       "    </tr>\n",
       "    <tr>\n",
       "      <th>2</th>\n",
       "      <td>5.99146</td>\n",
       "      <td>5.80084</td>\n",
       "      <td>5.62682</td>\n",
       "      <td>5.46674</td>\n",
       "      <td>5.31852</td>\n",
       "      <td>5.18053</td>\n",
       "      <td>5.05146</td>\n",
       "      <td>4.93021</td>\n",
       "      <td>4.81589</td>\n",
       "      <td>4.70776</td>\n",
       "      <td>4.60517</td>\n",
       "      <td>4.50759</td>\n",
       "      <td>4.41455</td>\n",
       "      <td>4.32565</td>\n",
       "      <td>4.24053</td>\n",
       "      <td>4.15888</td>\n",
       "      <td>4.08044</td>\n",
       "      <td>4.00496</td>\n",
       "      <td>3.93223</td>\n",
       "      <td>3.86204</td>\n",
       "    </tr>\n",
       "    <tr>\n",
       "      <th>3</th>\n",
       "      <td>7.81473</td>\n",
       "      <td>7.60179</td>\n",
       "      <td>7.40688</td>\n",
       "      <td>7.22713</td>\n",
       "      <td>7.06031</td>\n",
       "      <td>6.90464</td>\n",
       "      <td>6.75869</td>\n",
       "      <td>6.62129</td>\n",
       "      <td>6.49146</td>\n",
       "      <td>6.36839</td>\n",
       "      <td>6.25139</td>\n",
       "      <td>6.13987</td>\n",
       "      <td>6.03333</td>\n",
       "      <td>5.93132</td>\n",
       "      <td>5.83346</td>\n",
       "      <td>5.73941</td>\n",
       "      <td>5.64888</td>\n",
       "      <td>5.56161</td>\n",
       "      <td>5.47734</td>\n",
       "      <td>5.39589</td>\n",
       "    </tr>\n",
       "    <tr>\n",
       "      <th>4</th>\n",
       "      <td>9.48773</td>\n",
       "      <td>9.25643</td>\n",
       "      <td>9.04437</td>\n",
       "      <td>8.84849</td>\n",
       "      <td>8.66643</td>\n",
       "      <td>8.49628</td>\n",
       "      <td>8.33653</td>\n",
       "      <td>8.18593</td>\n",
       "      <td>8.04344</td>\n",
       "      <td>7.90818</td>\n",
       "      <td>7.77944</td>\n",
       "      <td>7.65657</td>\n",
       "      <td>7.53904</td>\n",
       "      <td>7.42638</td>\n",
       "      <td>7.31816</td>\n",
       "      <td>7.21405</td>\n",
       "      <td>7.11371</td>\n",
       "      <td>7.01686</td>\n",
       "      <td>6.92325</td>\n",
       "      <td>6.83266</td>\n",
       "    </tr>\n",
       "  </tbody>\n",
       "</table>\n",
       "</div>"
      ],
      "text/plain": [
       "     0.050    0.055    0.060    0.065    0.070    0.075    0.080    0.085  \\\n",
       "1  3.84146  3.68209  3.53738  3.40498  3.28302  3.17005  3.06490  2.96661   \n",
       "2  5.99146  5.80084  5.62682  5.46674  5.31852  5.18053  5.05146  4.93021   \n",
       "3  7.81473  7.60179  7.40688  7.22713  7.06031  6.90464  6.75869  6.62129   \n",
       "4  9.48773  9.25643  9.04437  8.84849  8.66643  8.49628  8.33653  8.18593   \n",
       "\n",
       "     0.090    0.095    0.100    0.105    0.110    0.115    0.120    0.125  \\\n",
       "1  2.87437  2.78754  2.70554  2.62791  2.55422  2.48413  2.41732  2.35353   \n",
       "2  4.81589  4.70776  4.60517  4.50759  4.41455  4.32565  4.24053  4.15888   \n",
       "3  6.49146  6.36839  6.25139  6.13987  6.03333  5.93132  5.83346  5.73941   \n",
       "4  8.04344  7.90818  7.77944  7.65657  7.53904  7.42638  7.31816  7.21405   \n",
       "\n",
       "     0.130    0.135    0.140    0.145  \n",
       "1  2.29250  2.23405  2.17796  2.12408  \n",
       "2  4.08044  4.00496  3.93223  3.86204  \n",
       "3  5.64888  5.56161  5.47734  5.39589  \n",
       "4  7.11371  7.01686  6.92325  6.83266  "
      ]
     },
     "execution_count": 32,
     "metadata": {},
     "output_type": "execute_result"
    }
   ],
   "source": [
    "# Importation de la fonction chi2 du module stats de scipy.stats\n",
    "# chi2.isf est utilisée pour calculer la fonction inverse de survie (inverse survival function) de la distribution du khi-deux\n",
    "# Documentation scipy.stats pour chi2.isf: https://docs.scipy.org/doc/scipy/reference/generated/scipy.stats.chi2.html\n",
    "from scipy.stats import chi2\n",
    "\n",
    "# Définition des valeurs pour les degrés de liberté (J) et les quantiles (I)\n",
    "# J représente les degrés de liberté de la distribution du khi-deux\n",
    "# I représente les quantiles, c'est-à-dire les probabilités pour lesquelles calculer la fonction inverse de survie\n",
    "J = np.arange(1, 5, 1)\n",
    "I = np.arange(0.05, 0.15, 0.005)\n",
    "\n",
    "# Création d'une matrice vide 'a' avec des dimensions basées sur la longueur de J et I\n",
    "# La matrice sera remplie de valeurs NaN\n",
    "a = np.empty((len(J), len(I)))\n",
    "a[:] = np.nan\n",
    "\n",
    "# Boucle imbriquée pour calculer chi2.isf pour chaque combinaison de J (degrés de liberté) et I (quantiles)\n",
    "for i in range(0, len(I)):\n",
    "    for j in range(0, len(J)):\n",
    "        # Calcul de chi2.isf pour la combinaison actuelle de degrés de liberté (J[j]) et quantile (I[i])\n",
    "        a[j, i] = chi2.isf(I[i], J[j])\n",
    "\n",
    "# Création d'un DataFrame pandas (df_chi2) à partir de la matrice 'a' avec des colonnes nommées d'après les quantiles (I)\n",
    "# et des index d'après les degrés de liberté (J)\n",
    "df_chi2 = round(pd.DataFrame(a, columns=I, index=J), 5)\n",
    "\n",
    "# Affichage du DataFrame df_chi2\n",
    "df_chi2\n"
   ]
  },
  {
   "cell_type": "markdown",
   "metadata": {},
   "source": [
    "On cherche quelle est la probabilité critique pour laquelle **Khi2_obs** < Khi2_max de la table sur la ligne correspond à notre nombre de degré de liberté **ddl**"
   ]
  },
  {
   "cell_type": "markdown",
   "metadata": {},
   "source": [
    "### 📢 Taille de l'échantillon"
   ]
  },
  {
   "cell_type": "markdown",
   "metadata": {},
   "source": [
    "Les tests d'indépendance sont très sensibles à la taille des échantillons. Ici on divise par 100 pour avoir des effectifs faibles mais en conservant les répartitions."
   ]
  },
  {
   "cell_type": "code",
   "execution_count": 33,
   "metadata": {},
   "outputs": [],
   "source": [
    "# Division des valeurs dans la matrice 'obs' par 100 pour obtenir des proportions plutôt que des effectifs\n",
    "# Ceci est communément fait pour effectuer un test du khi-deux avec des proportions plutôt qu'avec des effectifs bruts\n",
    "obs_normalized = obs / 100\n",
    "\n",
    "# Application de la fonction chi2_contingency à la table de contingence normalisée (obs_normalized)\n",
    "# La fonction renvoie plusieurs valeurs, notamment le Khi2 observé, la valeur p, le degré de liberté et l'effectif théorique\n",
    "# Documentation scipy.stats pour chi2_contingency: https://docs.scipy.org/doc/scipy/reference/generated/scipy.stats.chi2_contingency.html\n",
    "chi2_result_normalized = chi2_contingency(obs_normalized)\n"
   ]
  },
  {
   "cell_type": "markdown",
   "metadata": {},
   "source": [
    "H0 : Variables indépendantes si p-value > 5%\n",
    "<br> ~H1 : Variables non indépendantes si p-value < 5%~ <br>"
   ]
  },
  {
   "cell_type": "markdown",
   "metadata": {},
   "source": [
    "Ici on multiplie par 100 pour avoir des effectifs grands mais en conservant les répartitions."
   ]
  },
  {
   "cell_type": "code",
   "execution_count": 34,
   "metadata": {
    "scrolled": true
   },
   "outputs": [
    {
     "name": "stdout",
     "output_type": "stream",
     "text": [
      "Chi2ContingencyResult(statistic=605.039961072823, pvalue=8.14310251740213e-131, dof=3, expected_freq=array([[71261.33593369, 87391.80887372, 54247.0014627 , 13699.85372989],\n",
      "       [57738.66406631, 70808.19112628, 43952.9985373 , 11100.14627011]]))\n"
     ]
    }
   ],
   "source": [
    "# Multiplication des valeurs dans la matrice 'obs' par 100 pour obtenir des effectifs artificiellement augmentés\n",
    "# Ceci peut être fait pour explorer les variations dans le test du khi-deux avec des effectifs plus importants\n",
    "obs_artificially_increased = obs * 100\n",
    "\n",
    "# Application de la fonction chi2_contingency à la table de contingence artificiellement augmentée (obs_artificially_increased)\n",
    "# La fonction renvoie plusieurs valeurs, notamment le Khi2 observé, la valeur p, le degré de liberté et l'effectif théorique\n",
    "# Documentation scipy.stats pour chi2_contingency: https://docs.scipy.org/doc/scipy/reference/generated/scipy.stats.chi2_contingency.html\n",
    "chi2_result_artificially_increased = chi2_contingency(obs_artificially_increased)\n",
    "\n",
    "print(chi2_result_artificially_increased)\n",
    "\n"
   ]
  },
  {
   "cell_type": "markdown",
   "metadata": {},
   "source": [
    "~H0 : Variables indépendantes si p-value > 5%~\n",
    "<br> H1 : Variables non indépendantes si p-value < 5%"
   ]
  },
  {
   "cell_type": "markdown",
   "metadata": {},
   "source": [
    "# ANOVA"
   ]
  },
  {
   "cell_type": "markdown",
   "metadata": {},
   "source": [
    "## Anova à 1 facteur"
   ]
  },
  {
   "cell_type": "markdown",
   "metadata": {},
   "source": [
    "On effectue une analyse de variance pour mesurer l’indépendance entre une variable qualitative et une quantitative."
   ]
  },
  {
   "cell_type": "markdown",
   "metadata": {},
   "source": [
    "Exemple sur le dataset Hotdogs 🌭 disponible en [cliquant ici](https://github.com/asardell/statistique-python/tree/master/Dataset)."
   ]
  },
  {
   "cell_type": "code",
   "execution_count": 35,
   "metadata": {},
   "outputs": [
    {
     "data": {
      "text/html": [
       "<div>\n",
       "<style scoped>\n",
       "    .dataframe tbody tr th:only-of-type {\n",
       "        vertical-align: middle;\n",
       "    }\n",
       "\n",
       "    .dataframe tbody tr th {\n",
       "        vertical-align: top;\n",
       "    }\n",
       "\n",
       "    .dataframe thead th {\n",
       "        text-align: right;\n",
       "    }\n",
       "</style>\n",
       "<table border=\"1\" class=\"dataframe\">\n",
       "  <thead>\n",
       "    <tr style=\"text-align: right;\">\n",
       "      <th></th>\n",
       "      <th>Type;Calories;Sodium</th>\n",
       "    </tr>\n",
       "  </thead>\n",
       "  <tbody>\n",
       "    <tr>\n",
       "      <th>0</th>\n",
       "      <td>Beef;186;495</td>\n",
       "    </tr>\n",
       "    <tr>\n",
       "      <th>1</th>\n",
       "      <td>Beef;181;477</td>\n",
       "    </tr>\n",
       "    <tr>\n",
       "      <th>2</th>\n",
       "      <td>Beef;176;425</td>\n",
       "    </tr>\n",
       "    <tr>\n",
       "      <th>3</th>\n",
       "      <td>Beef;149;322</td>\n",
       "    </tr>\n",
       "    <tr>\n",
       "      <th>4</th>\n",
       "      <td>Beef;184;482</td>\n",
       "    </tr>\n",
       "  </tbody>\n",
       "</table>\n",
       "</div>"
      ],
      "text/plain": [
       "  Type;Calories;Sodium\n",
       "0         Beef;186;495\n",
       "1         Beef;181;477\n",
       "2         Beef;176;425\n",
       "3         Beef;149;322\n",
       "4         Beef;184;482"
      ]
     },
     "execution_count": 35,
     "metadata": {},
     "output_type": "execute_result"
    }
   ],
   "source": [
    "# Lecture d'un fichier CSV et chargement des données dans un DataFrame pandas\n",
    "# Le chemin du fichier est spécifié avec \"../Dataset/Hotdogs.csv\"\n",
    "# sep=\";\" indique que le point-virgule est utilisé comme séparateur de colonnes dans le fichier CSV\n",
    "# Documentation pandas pour read_csv: https://pandas.pydata.org/pandas-docs/stable/reference/api/pandas.read_csv.html\n",
    "df = pd.read_csv(\"../Dataset/Hotdogs.csv\", sep=\",\")\n",
    "\n",
    "# Affichage des cinq premières lignes du DataFrame pour inspection\n",
    "# Documentation pandas pour head: https://pandas.pydata.org/pandas-docs/stable/reference/api/pandas.DataFrame.head.html\n",
    "df.head()\n"
   ]
  },
  {
   "cell_type": "code",
   "execution_count": 36,
   "metadata": {},
   "outputs": [
    {
     "name": "stdout",
     "output_type": "stream",
     "text": [
      "Valeurs uniques de la colonne 'Type': ['Beef' 'Meat' 'Poultry']\n"
     ]
    }
   ],
   "source": [
    "# Lecture d'un fichier CSV et chargement des données dans un DataFrame pandas\n",
    "# Le chemin du fichier est spécifié avec \"../Dataset/Hotdogs.csv\"\n",
    "# sep=\";\" indique que le point-virgule est utilisé comme séparateur de colonnes dans le fichier CSV\n",
    "# Documentation pandas pour read_csv: https://pandas.pydata.org/pandas-docs/stable/reference/api/pandas.read_csv.html\n",
    "df = pd.read_csv(\"../Dataset/Hotdogs.csv\", sep=\";\")\n",
    "\n",
    "# Affichage des cinq premières lignes du DataFrame pour inspection\n",
    "# Documentation pandas pour head: https://pandas.pydata.org/pandas-docs/stable/reference/api/pandas.DataFrame.head.html\n",
    "df.head()\n",
    "\n",
    "# Sélection des valeurs uniques de la colonne 'Type' dans le DataFrame df\n",
    "# La méthode unique() renvoie un tableau numpy contenant les valeurs distinctes de la colonne spécifiée\n",
    "# Documentation pandas pour unique: https://pandas.pydata.org/pandas-docs/stable/reference/api/pandas.Series.unique.html\n",
    "unique_types = df['Type'].unique()\n",
    "\n",
    "# Affichage des valeurs uniques de la colonne 'Type'\n",
    "print(\"Valeurs uniques de la colonne 'Type':\", unique_types)\n"
   ]
  },
  {
   "cell_type": "markdown",
   "metadata": {},
   "source": [
    "On va tester l’indépendance entre la variable qualitative Type et la variable quantitatives Calories."
   ]
  },
  {
   "cell_type": "code",
   "execution_count": 37,
   "metadata": {},
   "outputs": [
    {
     "data": {
      "image/png": "[encoded data removed]",
      "text/plain": [
       "<Figure size 2000x400 with 1 Axes>"
      ]
     },
     "metadata": {},
     "output_type": "display_data"
    }
   ],
   "source": [
    "# Création d'une figure et d'axes pour le tracé du graphique en boîte (boxplot)\n",
    "# figsize=(20,4) spécifie la taille de la figure en pouces (largeur x hauteur)\n",
    "# Documentation matplotlib.pyplot pour subplots: https://matplotlib.org/stable/api/_as_gen/matplotlib.pyplot.subplots.html\n",
    "fig, ax = plt.subplots(figsize=(20, 4))\n",
    "\n",
    "# Tracé d'un graphique en boîte (boxplot) en utilisant la bibliothèque seaborn (sns)\n",
    "# 'x=\"Calories\"' indique que la variable 'Calories' sera sur l'axe des x, 'y=\"Type\"' indique que la variable 'Type' sera sur l'axe des y\n",
    "# 'data=df' spécifie le DataFrame contenant les données\n",
    "# Documentation seaborn pour boxplot: https://seaborn.pydata.org/generated/seaborn.boxplot.html\n",
    "ax = sns.boxplot(x=\"Calories\", y=\"Type\", data=df)\n",
    "\n",
    "# Affichage du graphique en boîte\n",
    "plt.show()\n"
   ]
  },
  {
   "cell_type": "markdown",
   "metadata": {},
   "source": [
    "Dans une ANOVA, on cherche à déterminer si les moyennes des groupes sont significativement différentes. On pose donc :\n",
    "\n",
    "* H0 : Les moyennes de chaque groupe sont égales si p-value > 5%\n",
    "* H1 : Les moyennes de chaque groupe ne sont pas toutes égales si p-value < 5%"
   ]
  },
  {
   "cell_type": "code",
   "execution_count": 38,
   "metadata": {},
   "outputs": [
    {
     "data": {
      "text/html": [
       "<div>\n",
       "<style scoped>\n",
       "    .dataframe tbody tr th:only-of-type {\n",
       "        vertical-align: middle;\n",
       "    }\n",
       "\n",
       "    .dataframe tbody tr th {\n",
       "        vertical-align: top;\n",
       "    }\n",
       "\n",
       "    .dataframe thead th {\n",
       "        text-align: right;\n",
       "    }\n",
       "</style>\n",
       "<table border=\"1\" class=\"dataframe\">\n",
       "  <thead>\n",
       "    <tr style=\"text-align: right;\">\n",
       "      <th></th>\n",
       "      <th>sum_sq</th>\n",
       "      <th>df</th>\n",
       "      <th>F</th>\n",
       "      <th>PR(&gt;F)</th>\n",
       "    </tr>\n",
       "  </thead>\n",
       "  <tbody>\n",
       "    <tr>\n",
       "      <th>Type</th>\n",
       "      <td>17692.195098</td>\n",
       "      <td>2.0</td>\n",
       "      <td>16.073993</td>\n",
       "      <td>0.000004</td>\n",
       "    </tr>\n",
       "    <tr>\n",
       "      <th>Residual</th>\n",
       "      <td>28067.138235</td>\n",
       "      <td>51.0</td>\n",
       "      <td>NaN</td>\n",
       "      <td>NaN</td>\n",
       "    </tr>\n",
       "  </tbody>\n",
       "</table>\n",
       "</div>"
      ],
      "text/plain": [
       "                sum_sq    df          F    PR(>F)\n",
       "Type      17692.195098   2.0  16.073993  0.000004\n",
       "Residual  28067.138235  51.0        NaN       NaN"
      ]
     },
     "execution_count": 38,
     "metadata": {},
     "output_type": "execute_result"
    }
   ],
   "source": [
    "# Importation des modules statsmodels.api et ols (Ordinary Least Squares) de statsmodels.formula.api\n",
    "# statsmodels est utilisé pour effectuer une analyse de la variance (ANOVA)\n",
    "# Documentation statsmodels pour ols: https://www.statsmodels.org/stable/regression.html\n",
    "import statsmodels.api as sm\n",
    "from statsmodels.formula.api import ols\n",
    "\n",
    "# Création d'un modèle de régression linéaire ordinaire (OLS) avec la formule 'Calories ~ Type'\n",
    "# Cela signifie que nous modélisons la variable dépendante 'Calories' en fonction de la variable indépendante 'Type'\n",
    "model = ols('Calories ~ Type', data=df).fit()\n",
    "\n",
    "# Calcul de la table d'analyse de la variance (ANOVA)\n",
    "# La fonction anova_lm() est utilisée pour effectuer une ANOVA sur le modèle\n",
    "# 'typ=2' spécifie le type d'ANOVA à effectuer (type 2)\n",
    "# Documentation statsmodels pour anova_lm: https://www.statsmodels.org/stable/anova.html\n",
    "anova_table = sm.stats.anova_lm(model, typ=2)\n",
    "\n",
    "# Affichage de la table d'analyse de la variance\n",
    "anova_table\n"
   ]
  },
  {
   "cell_type": "markdown",
   "metadata": {},
   "source": [
    "~H0 : Les moyennes de chaque groupe sont égales si p-value > 5%~\n",
    "<br> H1 : Les moyennes de chaque groupe ne sont pas toutes égales < 5%"
   ]
  },
  {
   "cell_type": "markdown",
   "metadata": {},
   "source": [
    "Quand on dispose d’un petit échantillon, la pertinence de ce test repose sur la validation de plusieurs hypothèses :\n",
    "\n",
    "* l’indépendance entre les échantillons de chaque groupe\n",
    "* l’égalité des variances que l’on peut verifier avec un test de Bartlett.\n",
    "* la normalité des résidus avec un test de Shapiro."
   ]
  },
  {
   "cell_type": "markdown",
   "metadata": {},
   "source": [
    "### L'indépendance"
   ]
  },
  {
   "cell_type": "markdown",
   "metadata": {},
   "source": [
    "L’indépendance est une des 3 conditions de validité d’une ANOVA. Seul le contexte de l’étude permet de s’assurer de l’indépendance entre les échantillons de chaque groupe (ici beef, poultry, chicken.)"
   ]
  },
  {
   "cell_type": "markdown",
   "metadata": {},
   "source": [
    "### L’égalité des variances"
   ]
  },
  {
   "cell_type": "markdown",
   "metadata": {},
   "source": [
    "On parle aussi d’homoscédasticité (https://fr.wikipedia.org/wiki/Homosc%C3%A9dasticit%C3%A9). C’est une des 3 conditions de validité d’une ANOVA. On cherche à démontrer que les variances de chaque groupe sont égales. Dans un boxplot, l’amplitude des boîtes traduit graphiquement l’égalité des variances."
   ]
  },
  {
   "cell_type": "code",
   "execution_count": 39,
   "metadata": {},
   "outputs": [
    {
     "data": {
      "image/png": "[encoded data removed]",
      "text/plain": [
       "<Figure size 2000x400 with 1 Axes>"
      ]
     },
     "metadata": {},
     "output_type": "display_data"
    }
   ],
   "source": [
    "# Création d'une figure et d'axes pour le tracé du graphique en boîte (boxplot)\n",
    "# figsize=(20,4) spécifie la taille de la figure en pouces (largeur x hauteur)\n",
    "# Documentation matplotlib.pyplot pour subplots: https://matplotlib.org/stable/api/_as_gen/matplotlib.pyplot.subplots.html\n",
    "fig, ax = plt.subplots(figsize=(20, 4))\n",
    "\n",
    "# Tracé d'un graphique en boîte (boxplot) en utilisant la bibliothèque seaborn (sns)\n",
    "# 'x=\"Calories\"' indique que la variable 'Calories' sera sur l'axe des x, 'y=\"Type\"' indique que la variable 'Type' sera sur l'axe des y\n",
    "# 'data=df' spécifie le DataFrame contenant les données\n",
    "# Documentation seaborn pour boxplot: https://seaborn.pydata.org/generated/seaborn.boxplot.html\n",
    "ax = sns.boxplot(x=\"Calories\", y=\"Type\", data=df)\n",
    "\n",
    "# Affichage du graphique en boîte\n",
    "plt.show()\n"
   ]
  },
  {
   "cell_type": "code",
   "execution_count": 40,
   "metadata": {},
   "outputs": [
    {
     "name": "stdout",
     "output_type": "stream",
     "text": [
      "Variances de la colonne 'Calories' pour chaque groupe 'Type':\n",
      "Type\n",
      "Beef       512.660526\n",
      "Meat       636.845588\n",
      "Poultry    508.566176\n",
      "Name: Calories, dtype: float64\n"
     ]
    }
   ],
   "source": [
    "# Groupement du DataFrame df par la colonne 'Type' et calcul de la variance de la colonne 'Calories' pour chaque groupe\n",
    "# La méthode groupby() divise le DataFrame en groupes en fonction des valeurs de la colonne spécifiée ('Type' dans ce cas)\n",
    "# La méthode agg('var') calcule la variance pour chaque groupe\n",
    "# Documentation pandas pour groupby: https://pandas.pydata.org/pandas-docs/stable/reference/api/pandas.DataFrame.groupby.html\n",
    "# Documentation pandas pour agg: https://pandas.pydata.org/pandas-docs/stable/reference/api/pandas.DataFrame.agg.html\n",
    "variance_by_type = df.groupby(\"Type\")['Calories'].agg('var')\n",
    "\n",
    "# Affichage des variances pour chaque groupe\n",
    "print(\"Variances de la colonne 'Calories' pour chaque groupe 'Type':\")\n",
    "print(variance_by_type)\n"
   ]
  },
  {
   "cell_type": "markdown",
   "metadata": {},
   "source": [
    "Mais c’est le test de bartlett qui permet de tester si les variances sont significativement différentes ou non avec :\n",
    "\n",
    "* H0 : Les variances de chaque groupe sont égales si p-value > 5%\n",
    "* H1 : Les variances de chaque groupe ne sont pas toutes égales < 5%"
   ]
  },
  {
   "cell_type": "code",
   "execution_count": 41,
   "metadata": {},
   "outputs": [
    {
     "name": "stdout",
     "output_type": "stream",
     "text": [
      "Résultat du test de Bartlett:\n",
      "Statistic = 0.26731777374070764\n",
      "p-value = 0.8748884496460629\n"
     ]
    }
   ],
   "source": [
    "# Test de Bartlett pour l'égalité des variances entre trois groupes définis par la colonne 'Type' ('Beef', 'Meat', 'Poultry')\n",
    "# La fonction bartlett() de scipy.stats est utilisée pour effectuer le test de Bartlett\n",
    "# Elle teste l'hypothèse nulle que toutes les populations ont la même variance\n",
    "# Documentation scipy.stats pour bartlett: https://docs.scipy.org/doc/scipy/reference/generated/scipy.stats.bartlett.html\n",
    "bartlett_test_result = bartlett(df.Calories[df.Type == 'Beef'],\n",
    "                                df.Calories[df.Type == 'Meat'],\n",
    "                                df.Calories[df.Type == 'Poultry'])\n",
    "\n",
    "# Affichage du résultat du test de Bartlett\n",
    "print(\"Résultat du test de Bartlett:\")\n",
    "print(\"Statistic =\", bartlett_test_result.statistic)\n",
    "print(\"p-value =\", bartlett_test_result.pvalue)\n"
   ]
  },
  {
   "cell_type": "markdown",
   "metadata": {},
   "source": [
    "* H0 : Les variances de chaque groupe sont égales si p-value > 5%\n",
    "* ~H1 : Les variances de chaque groupe ne sont pas toutes égales < 5%~\n",
    "\n",
    "Les variances de chaque groupe sont égales. La deuxième condition pour effectuer une anova est validée."
   ]
  },
  {
   "cell_type": "markdown",
   "metadata": {},
   "source": [
    "### Normalité des résidus"
   ]
  },
  {
   "cell_type": "markdown",
   "metadata": {},
   "source": [
    "C’est une des 3 conditions de validité d’une ANOVA. L’objectif est de s’assurer que les résidus suivent une loi normale afin de ne pas affirmer qu’il existe une différence de moyenne entre les groupes qui serait causée par le hasard.\n",
    "\n",
    "On utilise le test de Shapiro-Wilk pour tester la normalité des résidus où :\n",
    "\n",
    "* H0 : Les résidus suivent une loi normale si p-value > 5%\n",
    "* H1 : Les résidus ne suivent pas une loi normale si p-value < 5%"
   ]
  },
  {
   "cell_type": "code",
   "execution_count": 42,
   "metadata": {},
   "outputs": [
    {
     "name": "stdout",
     "output_type": "stream",
     "text": [
      "Résultat du test de normalité de Shapiro-Wilk:\n",
      "Statistique de test (W) = 0.9419925808906555\n",
      "p-value = 0.01129539217799902\n"
     ]
    }
   ],
   "source": [
    "# Importation de la fonction shapiro du module scipy.stats\n",
    "# La fonction shapiro est utilisée pour effectuer le test de normalité de Shapiro-Wilk sur les résidus du modèle de régression\n",
    "# Documentation scipy.stats pour shapiro: https://docs.scipy.org/doc/scipy/reference/generated/scipy.stats.shapiro.html\n",
    "from scipy.stats import shapiro\n",
    "\n",
    "# Ajustement du modèle de régression linéaire ordinaire (OLS) avec la formule 'Calories ~ Type'\n",
    "model = ols('Calories ~ Type', data=df).fit()\n",
    "\n",
    "# Application du test de normalité de Shapiro-Wilk sur les résidus du modèle\n",
    "# La fonction shapiro() renvoie la statistique de test (W) et la valeur p\n",
    "shapiro_test_result = shapiro(model.resid)\n",
    "\n",
    "# Affichage du résultat du test de normalité de Shapiro-Wilk\n",
    "print(\"Résultat du test de normalité de Shapiro-Wilk:\")\n",
    "print(\"Statistique de test (W) =\", shapiro_test_result.statistic)\n",
    "print(\"p-value =\", shapiro_test_result.pvalue)\n"
   ]
  },
  {
   "cell_type": "markdown",
   "metadata": {},
   "source": [
    "* ~H0 : Les résidus suivent une loi normale si p-value > 5%~\n",
    "* H1 : Les résidus ne suivent pas une loi normale si p-value < 5%"
   ]
  },
  {
   "cell_type": "markdown",
   "metadata": {},
   "source": [
    "Néanmoins, les conclusions dépendent également tu risques qu'on souhaite. Si on veut  1% de chance de se tromper, alors on ne rejette pas H0 car la p-value > 1%"
   ]
  },
  {
   "cell_type": "markdown",
   "metadata": {},
   "source": [
    "### Cas de variances égales entre chaque groupe"
   ]
  },
  {
   "cell_type": "code",
   "execution_count": 43,
   "metadata": {},
   "outputs": [
    {
     "data": {
      "image/png": "[encoded data removed]",
      "text/plain": [
       "<Figure size 2000x400 with 1 Axes>"
      ]
     },
     "metadata": {},
     "output_type": "display_data"
    }
   ],
   "source": [
    "# Création de trois séries pandas contenant des valeurs linéaires de 1 à 10, 31 à 40, et 51 à 60 respectivement\n",
    "A = pd.Series(np.linspace(1, 10, 9), name='A')\n",
    "B = pd.Series(np.linspace(31, 40, 9), name='B')\n",
    "C = pd.Series(np.linspace(51, 60, 9), name='C')\n",
    "\n",
    "# Création d'une série pandas contenant les labels de groupe ('A', 'B', 'C') répétés 9 fois chacun\n",
    "Groupe = pd.Series(['A', 'B', 'C']).repeat(9).to_list()\n",
    "\n",
    "# Création d'un DataFrame résultant de la concaténation des séries A, B, C et Groupe\n",
    "# Chaque série A, B, C correspond à une colonne et la série Groupe est ajoutée comme colonne 'Groupe'\n",
    "frame = {'Groupe': Groupe, 'Valeur': pd.concat([A, B, C])}\n",
    "result = pd.DataFrame(frame)\n",
    "\n",
    "# Création d'un graphique en boîte (boxplot) en utilisant seaborn pour visualiser la distribution des valeurs par groupe\n",
    "# 'x=\"Valeur\"' indique que la variable 'Valeur' sera sur l'axe des x, 'y=\"Groupe\"' indique que la variable 'Groupe' sera sur l'axe des y\n",
    "# Documentation seaborn pour boxplot: https://seaborn.pydata.org/generated/seaborn.boxplot.html\n",
    "plt.subplots(figsize=(20, 4))\n",
    "ax = sns.boxplot(x=\"Valeur\", y=\"Groupe\", data=result)\n"
   ]
  },
  {
   "cell_type": "markdown",
   "metadata": {},
   "source": [
    "On s'interesse au variance de chaque groupe"
   ]
  },
  {
   "cell_type": "code",
   "execution_count": 44,
   "metadata": {},
   "outputs": [
    {
     "name": "stdout",
     "output_type": "stream",
     "text": [
      "Variances de la colonne 'Valeur' pour chaque groupe 'Groupe':\n",
      "Groupe\n",
      "A    9.492188\n",
      "B    9.492188\n",
      "C    9.492188\n",
      "Name: Valeur, dtype: float64\n"
     ]
    }
   ],
   "source": [
    "# Groupement du DataFrame result par la colonne 'Groupe' et calcul de la variance de la colonne 'Valeur' pour chaque groupe\n",
    "# La méthode groupby() divise le DataFrame en groupes en fonction des valeurs de la colonne spécifiée ('Groupe' dans ce cas)\n",
    "# La méthode agg('var') calcule la variance pour chaque groupe\n",
    "# Documentation pandas pour groupby: https://pandas.pydata.org/pandas-docs/stable/reference/api/pandas.DataFrame.groupby.html\n",
    "# Documentation pandas pour agg: https://pandas.pydata.org/pandas-docs/stable/reference/api/pandas.DataFrame.agg.html\n",
    "variance_by_groupe = result.groupby(\"Groupe\")['Valeur'].agg('var')\n",
    "\n",
    "# Affichage des variances pour chaque groupe\n",
    "print(\"Variances de la colonne 'Valeur' pour chaque groupe 'Groupe':\")\n",
    "print(variance_by_groupe)\n"
   ]
  },
  {
   "cell_type": "markdown",
   "metadata": {},
   "source": [
    "Le test de bartlett permet de tester si les variances sont significativement différentes ou non"
   ]
  },
  {
   "cell_type": "code",
   "execution_count": 45,
   "metadata": {},
   "outputs": [
    {
     "name": "stdout",
     "output_type": "stream",
     "text": [
      "Résultat du test de Bartlett:\n",
      "Statistique de test = 0.0\n",
      "p-value = 1.0\n"
     ]
    }
   ],
   "source": [
    "# Importation de la fonction bartlett du module scipy.stats\n",
    "# La fonction bartlett est utilisée pour effectuer le test de Bartlett pour l'égalité des variances entre plusieurs groupes\n",
    "# Documentation scipy.stats pour bartlett: https://docs.scipy.org/doc/scipy/reference/generated/scipy.stats.bartlett.html\n",
    "from scipy.stats import bartlett\n",
    "\n",
    "# Application du test de Bartlett pour évaluer l'égalité des variances entre les groupes A, B et C\n",
    "bartlett_test_result = bartlett(A, B, C)\n",
    "\n",
    "# Affichage du résultat du test de Bartlett\n",
    "print(\"Résultat du test de Bartlett:\")\n",
    "print(\"Statistique de test =\", bartlett_test_result.statistic)\n",
    "print(\"p-value =\", bartlett_test_result.pvalue)\n"
   ]
  },
  {
   "cell_type": "markdown",
   "metadata": {},
   "source": [
    "H0 : Les variances de chaque groupe sont égales si p-value > 5%\n",
    "<br> ~H1 : Les variances de chaque groupe ne sont pas toutes égales < 5%~\n",
    "<br> On peut donc faire une ANOVA"
   ]
  },
  {
   "cell_type": "code",
   "execution_count": 46,
   "metadata": {},
   "outputs": [],
   "source": [
    "# Importation du module statsmodels.api pour les modèles statistiques\n",
    "import statsmodels.api as sm\n",
    "\n",
    "# Importation du module statsmodels.formula.api pour la spécification des modèles à l'aide de formules\n",
    "from statsmodels.formula.api import ols\n"
   ]
  },
  {
   "cell_type": "markdown",
   "metadata": {},
   "source": [
    "A travers l'analyse de la variance on cherche à déterminer si : <br>\n",
    "H0 : Les moyennes de chaque groupe sont égales si p-value > 5%\n",
    "<br> H1 : Les moyennes de chaque groupe ne sont pas toutes égales < 5%"
   ]
  },
  {
   "cell_type": "code",
   "execution_count": 47,
   "metadata": {},
   "outputs": [
    {
     "name": "stdout",
     "output_type": "stream",
     "text": [
      "              sum_sq    df           F        PR(>F)\n",
      "Groupe    11400.0000   2.0  600.493827  3.198559e-21\n",
      "Residual    227.8125  24.0         NaN           NaN\n"
     ]
    }
   ],
   "source": [
    "# Spécification et ajustement du modèle de régression linéaire ordinaire (OLS) avec la formule 'Valeur ~ Groupe'\n",
    "# La fonction ols() permet de spécifier un modèle de régression linéaire à partir d'une formule\n",
    "# La formule 'Valeur ~ Groupe' indique que 'Valeur' est la variable dépendante et 'Groupe' est la variable indépendante\n",
    "# La méthode fit() ajuste réellement le modèle aux données du DataFrame result\n",
    "model = ols('Valeur ~ Groupe', data=result).fit()\n",
    "\n",
    "# Calcul de la table d'analyse de la variance (ANOVA) à l'aide de statsmodels\n",
    "# La méthode anova_lm de statsmodels.stats est utilisée pour effectuer l'ANOVA\n",
    "# 'typ=2' spécifie le type d'ANOVA à effectuer, dans ce cas, ANOVA Type II\n",
    "# Documentation statsmodels pour anova_lm: https://www.statsmodels.org/stable/generated/statsmodels.stats.anova.anova_lm.html\n",
    "# L'ANOVA évalue la significativité globale du modèle et la contribution de chaque variable indépendante\n",
    "anova_table = sm.stats.anova_lm(model, typ=2)\n",
    "\n",
    "# Affichage de la table d'analyse de la variance (ANOVA)\n",
    "# La table ANOVA fournit des informations telles que la somme des carrés, les degrés de liberté, les carrés moyens,\n",
    "# et les valeurs F associées à chaque terme du modèle\n",
    "# Cela permet d'évaluer la significativité des variables indépendantes dans le modèle\n",
    "print(anova_table)\n"
   ]
  },
  {
   "cell_type": "markdown",
   "metadata": {},
   "source": [
    "~H0 : Les moyennes de chaque groupe sont égales si p-value > 5%~\n",
    "<br> H1 : Les moyennes de chaque groupe ne sont pas toutes égales < 5%"
   ]
  },
  {
   "cell_type": "markdown",
   "metadata": {},
   "source": [
    "### Cas de variances inégales entre chaque groupe"
   ]
  },
  {
   "cell_type": "code",
   "execution_count": 48,
   "metadata": {},
   "outputs": [
    {
     "data": {
      "image/png": "[encoded data removed]",
      "text/plain": [
       "<Figure size 2000x400 with 1 Axes>"
      ]
     },
     "metadata": {},
     "output_type": "display_data"
    }
   ],
   "source": [
    "# Création de trois séries de données (A, B, C) avec des valeurs linéaires\n",
    "A = pd.Series(np.linspace(1, 7, 9), name='A')\n",
    "B = pd.Series(np.linspace(31, 50, 9), name='B')\n",
    "C = pd.Series(np.linspace(50, 100, 9), name='C')\n",
    "\n",
    "# Création d'une série de catégories (Groupe) en répétant les valeurs 'A', 'B', 'C' neuf fois chacune\n",
    "Groupe = pd.Series(['A', 'B', 'C']).repeat(9).to_list()\n",
    "\n",
    "# Construction d'un DataFrame 'result' à partir des séries A, B, C et Groupe\n",
    "# La colonne 'Groupe' contient les catégories et la colonne 'Valeur' contient les données concaténées\n",
    "frame = {'Groupe': Groupe, 'Valeur': pd.concat([A, B, C])}\n",
    "result = pd.DataFrame(frame)\n",
    "\n",
    "# Création d'une boîte à moustaches (boxplot) pour visualiser la distribution des valeurs par groupe\n",
    "# La fonction plt.subplots() permet de spécifier la taille de la figure (20 de large, 4 de haut)\n",
    "plt.subplots(figsize=(20, 4))\n",
    "ax = sns.boxplot(x=\"Valeur\", y=\"Groupe\", data=result)\n"
   ]
  },
  {
   "cell_type": "code",
   "execution_count": 49,
   "metadata": {},
   "outputs": [
    {
     "name": "stdout",
     "output_type": "stream",
     "text": [
      "BartlettResult(statistic=25.177363348990262, pvalue=3.410397602490597e-06)\n"
     ]
    }
   ],
   "source": [
    "# Test de l'égalité des variances avec le test de Bartlett\n",
    "# La fonction bartlett() du module scipy.stats est utilisée pour comparer les variances de plusieurs échantillons\n",
    "# Elle teste l'hypothèse nulle que toutes les échantillons ont la même variance\n",
    "# Documentation pour bartlett: https://docs.scipy.org/doc/scipy/reference/generated/scipy.stats.bartlett.html\n",
    "bartlett_test_result = bartlett(A, B, C)\n",
    "print(bartlett_test_result)\n"
   ]
  },
  {
   "cell_type": "markdown",
   "metadata": {},
   "source": [
    "~H0 : Les variances de chaque groupe sont égales si p-value > 5%~\n",
    "<br> H1 : Les variances de chaque groupe ne sont pas toutes égales < 5%\n",
    "<br> Il n'est donc pas conseillé de réaliser une ANOVA car les résultats ne seraient pas fiables."
   ]
  },
  {
   "cell_type": "markdown",
   "metadata": {},
   "source": [
    "## Anova à 2 facteurs"
   ]
  },
  {
   "cell_type": "markdown",
   "metadata": {},
   "source": [
    "Même principe que l'Anova à un facteur sauf qu'on ajoute un autre facteur. L'idée est de tester l'indépendance de ces facteurs sur une variable quantitative continue "
   ]
  },
  {
   "cell_type": "markdown",
   "metadata": {},
   "source": [
    "On utilise le dataset ToothGrowth disponible en [cliquant ici](https://github.com/asardell/statistique-python/tree/master/Dataset). On étudie la longueur des odontoblastes (cellules responsables de la croissance dentaire) chez 60 cobayes. Chaque animal a reçu l'une des trois doses de vitamine C (0,5, 1 et 2 mg / jour) par l'une des deux méthodes d'administration, du jus d'orange ou de l'acide ascorbique (une forme de vitamine C et codée VC) :\n",
    "\n",
    "* len : lLongueur de la dent\n",
    "* supp : supplément (VC ou OJ).\n",
    "* dose : dose en milligrammes / jour"
   ]
  },
  {
   "cell_type": "code",
   "execution_count": 50,
   "metadata": {},
   "outputs": [
    {
     "data": {
      "text/html": [
       "<div>\n",
       "<style scoped>\n",
       "    .dataframe tbody tr th:only-of-type {\n",
       "        vertical-align: middle;\n",
       "    }\n",
       "\n",
       "    .dataframe tbody tr th {\n",
       "        vertical-align: top;\n",
       "    }\n",
       "\n",
       "    .dataframe thead th {\n",
       "        text-align: right;\n",
       "    }\n",
       "</style>\n",
       "<table border=\"1\" class=\"dataframe\">\n",
       "  <thead>\n",
       "    <tr style=\"text-align: right;\">\n",
       "      <th></th>\n",
       "      <th>len</th>\n",
       "      <th>supp</th>\n",
       "      <th>dose</th>\n",
       "    </tr>\n",
       "  </thead>\n",
       "  <tbody>\n",
       "    <tr>\n",
       "      <th>0</th>\n",
       "      <td>4.2</td>\n",
       "      <td>VC</td>\n",
       "      <td>0.5</td>\n",
       "    </tr>\n",
       "    <tr>\n",
       "      <th>1</th>\n",
       "      <td>11.5</td>\n",
       "      <td>VC</td>\n",
       "      <td>0.5</td>\n",
       "    </tr>\n",
       "    <tr>\n",
       "      <th>2</th>\n",
       "      <td>7.3</td>\n",
       "      <td>VC</td>\n",
       "      <td>0.5</td>\n",
       "    </tr>\n",
       "  </tbody>\n",
       "</table>\n",
       "</div>"
      ],
      "text/plain": [
       "    len supp  dose\n",
       "0   4.2   VC   0.5\n",
       "1  11.5   VC   0.5\n",
       "2   7.3   VC   0.5"
      ]
     },
     "execution_count": 50,
     "metadata": {},
     "output_type": "execute_result"
    }
   ],
   "source": [
    "# Lecture d'un fichier CSV contenant des données sur la croissance des dents\n",
    "# Le chemin du fichier est spécifié avec \"../Dataset/ToothGrowth.csv\"\n",
    "df = pd.read_csv(\"../Dataset/ToothGrowth.csv\")\n",
    "\n",
    "# Affichage des trois premières lignes du DataFrame pour inspection\n",
    "# Documentation pandas pour read_csv: https://pandas.pydata.org/pandas-docs/stable/reference/api/pandas.read_csv.html\n",
    "df.head(3)\n"
   ]
  },
  {
   "cell_type": "markdown",
   "metadata": {},
   "source": [
    "#### On étudie la variable supp"
   ]
  },
  {
   "cell_type": "code",
   "execution_count": 51,
   "metadata": {},
   "outputs": [
    {
     "name": "stdout",
     "output_type": "stream",
     "text": [
      "['VC' 'OJ']\n"
     ]
    }
   ],
   "source": [
    "# Sélection des valeurs uniques de la colonne 'supp' dans le DataFrame df\n",
    "# La méthode unique() renvoie un tableau numpy contenant les valeurs distinctes de la colonne spécifiée\n",
    "# Documentation pandas pour unique: https://pandas.pydata.org/pandas-docs/stable/reference/api/pandas.Series.unique.html\n",
    "supp_unique_values = df.supp.unique()\n",
    "print(supp_unique_values)\n"
   ]
  },
  {
   "cell_type": "code",
   "execution_count": 52,
   "metadata": {},
   "outputs": [
    {
     "data": {
      "image/png": "[encoded data removed]",
      "text/plain": [
       "<Figure size 2000x200 with 1 Axes>"
      ]
     },
     "metadata": {},
     "output_type": "display_data"
    }
   ],
   "source": [
    "# Création d'une boîte à moustaches (boxplot) pour visualiser la distribution de la colonne 'len' par catégorie 'supp'\n",
    "# La fonction plt.subplots() permet de spécifier la taille de la figure (20 de large, 2 de haut)\n",
    "plt.subplots(figsize=(20, 2))\n",
    "\n",
    "# Utilisation de Seaborn pour créer le boxplot\n",
    "# La fonction sns.boxplot() prend en paramètres les données du DataFrame df, avec 'len' sur l'axe des x et 'supp' sur l'axe des y\n",
    "ax = sns.boxplot(x=\"len\", y=\"supp\", data=df)\n"
   ]
  },
  {
   "cell_type": "code",
   "execution_count": 53,
   "metadata": {},
   "outputs": [
    {
     "name": "stdout",
     "output_type": "stream",
     "text": [
      "BartlettResult(statistic=1.421682114943345, pvalue=0.23312673355220734)\n"
     ]
    }
   ],
   "source": [
    "# Test de Bartlett pour comparer les variances des échantillons 'VC' et 'OJ' de la colonne 'len' dans le DataFrame df\n",
    "# La fonction bartlett() du module scipy.stats est utilisée pour effectuer ce test\n",
    "# Elle teste l'hypothèse nulle que les échantillons ont des variances égales\n",
    "# Documentation pour bartlett: https://docs.scipy.org/doc/scipy/reference/generated/scipy.stats.bartlett.html\n",
    "bartlett_test_result = bartlett(df.len[df.supp == 'VC'], df.len[df.supp == 'OJ'])\n",
    "print(bartlett_test_result)\n"
   ]
  },
  {
   "cell_type": "markdown",
   "metadata": {},
   "source": [
    "H0 : Les variances de chaque groupe sont égales si p-value > 5%\n",
    "<br> ~H1 : Les variances de chaque groupe ne sont pas toutes égales < 5%~"
   ]
  },
  {
   "cell_type": "markdown",
   "metadata": {},
   "source": [
    "#### On étudie la variable dose"
   ]
  },
  {
   "cell_type": "code",
   "execution_count": 54,
   "metadata": {},
   "outputs": [
    {
     "name": "stdout",
     "output_type": "stream",
     "text": [
      "[0.5 1.  2. ]\n"
     ]
    }
   ],
   "source": [
    "# Sélection des valeurs uniques de la colonne 'dose' dans le DataFrame df\n",
    "# La méthode unique() renvoie un tableau numpy contenant les valeurs distinctes de la colonne spécifiée\n",
    "# Documentation pandas pour unique: https://pandas.pydata.org/pandas-docs/stable/reference/api/pandas.Series.unique.html\n",
    "dose_unique_values = df.dose.unique()\n",
    "print(dose_unique_values)"
   ]
  },
  {
   "cell_type": "code",
   "execution_count": 55,
   "metadata": {},
   "outputs": [],
   "source": [
    "# Conversion de la colonne 'dose' en type de données catégorielles (category) dans le DataFrame df\n",
    "# La méthode astype() permet de changer le type de données d'une colonne, ici de 'object' à 'category'\n",
    "# Cela est utile pour représenter des variables catégorielles de manière plus efficace\n",
    "# Documentation pandas pour astype: https://pandas.pydata.org/pandas-docs/stable/reference/api/pandas.DataFrame.astype.html\n",
    "df.dose = df.dose.astype('category')\n"
   ]
  },
  {
   "cell_type": "code",
   "execution_count": 56,
   "metadata": {},
   "outputs": [
    {
     "data": {
      "image/png": "[encoded data removed]",
      "text/plain": [
       "<Figure size 2000x200 with 1 Axes>"
      ]
     },
     "metadata": {},
     "output_type": "display_data"
    }
   ],
   "source": [
    "# Création d'une boîte à moustaches (boxplot) pour visualiser la distribution de la colonne 'len' par catégorie 'dose'\n",
    "# La fonction plt.subplots() permet de spécifier la taille de la figure (20 de large, 2 de haut)\n",
    "plt.subplots(figsize=(20, 2))\n",
    "\n",
    "# Utilisation de Seaborn pour créer le boxplot\n",
    "# La fonction sns.boxplot() prend en paramètres les données du DataFrame df, avec 'len' sur l'axe des x et 'dose' sur l'axe des y\n",
    "ax = sns.boxplot(x=\"len\", y=\"dose\", data=df)\n"
   ]
  },
  {
   "cell_type": "code",
   "execution_count": 57,
   "metadata": {},
   "outputs": [
    {
     "data": {
      "text/plain": [
       "BartlettResult(statistic=nan, pvalue=nan)"
      ]
     },
     "execution_count": 57,
     "metadata": {},
     "output_type": "execute_result"
    }
   ],
   "source": [
    "bartlett(df.len[df.dose == \"0.5\"],\n",
    "        df.len[df.dose == \"1.0\"],\n",
    "        df.len[df.dose == \"2.0\"])"
   ]
  },
  {
   "cell_type": "markdown",
   "metadata": {},
   "source": [
    "H0 : Les variances de chaque groupe sont égales si p-value > 5%\n",
    "<br> ~H1 : Les variances de chaque groupe ne sont pas toutes égales < 5%~"
   ]
  },
  {
   "cell_type": "markdown",
   "metadata": {},
   "source": [
    "#### On peut faire une ANOVA"
   ]
  },
  {
   "cell_type": "markdown",
   "metadata": {},
   "source": [
    "H0 : Les moyennes de chaque groupe sont égales si p-value > 5%\n",
    "<br> H1 : Les moyennes de chaque groupe ne sont pas toutes égales < 5%"
   ]
  },
  {
   "cell_type": "code",
   "execution_count": 58,
   "metadata": {},
   "outputs": [],
   "source": [
    "model = ols('len ~ supp + dose', data=df).fit()"
   ]
  },
  {
   "cell_type": "code",
   "execution_count": 59,
   "metadata": {},
   "outputs": [
    {
     "data": {
      "text/html": [
       "<div>\n",
       "<style scoped>\n",
       "    .dataframe tbody tr th:only-of-type {\n",
       "        vertical-align: middle;\n",
       "    }\n",
       "\n",
       "    .dataframe tbody tr th {\n",
       "        vertical-align: top;\n",
       "    }\n",
       "\n",
       "    .dataframe thead th {\n",
       "        text-align: right;\n",
       "    }\n",
       "</style>\n",
       "<table border=\"1\" class=\"dataframe\">\n",
       "  <thead>\n",
       "    <tr style=\"text-align: right;\">\n",
       "      <th></th>\n",
       "      <th>sum_sq</th>\n",
       "      <th>df</th>\n",
       "      <th>F</th>\n",
       "      <th>PR(&gt;F)</th>\n",
       "    </tr>\n",
       "  </thead>\n",
       "  <tbody>\n",
       "    <tr>\n",
       "      <th>supp</th>\n",
       "      <td>205.350000</td>\n",
       "      <td>1.0</td>\n",
       "      <td>14.016638</td>\n",
       "      <td>4.292793e-04</td>\n",
       "    </tr>\n",
       "    <tr>\n",
       "      <th>dose</th>\n",
       "      <td>2426.434333</td>\n",
       "      <td>2.0</td>\n",
       "      <td>82.810935</td>\n",
       "      <td>1.871163e-17</td>\n",
       "    </tr>\n",
       "    <tr>\n",
       "      <th>Residual</th>\n",
       "      <td>820.425000</td>\n",
       "      <td>56.0</td>\n",
       "      <td>NaN</td>\n",
       "      <td>NaN</td>\n",
       "    </tr>\n",
       "  </tbody>\n",
       "</table>\n",
       "</div>"
      ],
      "text/plain": [
       "               sum_sq    df          F        PR(>F)\n",
       "supp       205.350000   1.0  14.016638  4.292793e-04\n",
       "dose      2426.434333   2.0  82.810935  1.871163e-17\n",
       "Residual   820.425000  56.0        NaN           NaN"
      ]
     },
     "execution_count": 59,
     "metadata": {},
     "output_type": "execute_result"
    }
   ],
   "source": [
    "anova_table = sm.stats.anova_lm(model, typ=2)\n",
    "anova_table"
   ]
  },
  {
   "cell_type": "markdown",
   "metadata": {},
   "source": [
    "📢 Le principe de l'Anova à plusieurs facteurs c'est justement de pouvoir observer les intéractions entre les variables"
   ]
  },
  {
   "cell_type": "code",
   "execution_count": 60,
   "metadata": {},
   "outputs": [
    {
     "data": {
      "text/html": [
       "<div>\n",
       "<style scoped>\n",
       "    .dataframe tbody tr th:only-of-type {\n",
       "        vertical-align: middle;\n",
       "    }\n",
       "\n",
       "    .dataframe tbody tr th {\n",
       "        vertical-align: top;\n",
       "    }\n",
       "\n",
       "    .dataframe thead th {\n",
       "        text-align: right;\n",
       "    }\n",
       "</style>\n",
       "<table border=\"1\" class=\"dataframe\">\n",
       "  <thead>\n",
       "    <tr style=\"text-align: right;\">\n",
       "      <th></th>\n",
       "      <th>sum_sq</th>\n",
       "      <th>df</th>\n",
       "      <th>F</th>\n",
       "      <th>PR(&gt;F)</th>\n",
       "    </tr>\n",
       "  </thead>\n",
       "  <tbody>\n",
       "    <tr>\n",
       "      <th>supp</th>\n",
       "      <td>205.350000</td>\n",
       "      <td>1.0</td>\n",
       "      <td>15.571979</td>\n",
       "      <td>2.311828e-04</td>\n",
       "    </tr>\n",
       "    <tr>\n",
       "      <th>dose</th>\n",
       "      <td>2426.434333</td>\n",
       "      <td>2.0</td>\n",
       "      <td>91.999965</td>\n",
       "      <td>4.046291e-18</td>\n",
       "    </tr>\n",
       "    <tr>\n",
       "      <th>supp:dose</th>\n",
       "      <td>108.319000</td>\n",
       "      <td>2.0</td>\n",
       "      <td>4.106991</td>\n",
       "      <td>2.186027e-02</td>\n",
       "    </tr>\n",
       "    <tr>\n",
       "      <th>Residual</th>\n",
       "      <td>712.106000</td>\n",
       "      <td>54.0</td>\n",
       "      <td>NaN</td>\n",
       "      <td>NaN</td>\n",
       "    </tr>\n",
       "  </tbody>\n",
       "</table>\n",
       "</div>"
      ],
      "text/plain": [
       "                sum_sq    df          F        PR(>F)\n",
       "supp        205.350000   1.0  15.571979  2.311828e-04\n",
       "dose       2426.434333   2.0  91.999965  4.046291e-18\n",
       "supp:dose   108.319000   2.0   4.106991  2.186027e-02\n",
       "Residual    712.106000  54.0        NaN           NaN"
      ]
     },
     "execution_count": 60,
     "metadata": {},
     "output_type": "execute_result"
    }
   ],
   "source": [
    "model = ols('len ~ supp + dose + supp:dose', data=df).fit()\n",
    "\n",
    "anova_table = sm.stats.anova_lm(model, typ=2)\n",
    "anova_table"
   ]
  },
  {
   "cell_type": "markdown",
   "metadata": {},
   "source": [
    "📢 On voit donc qu'il existe une intéraction entre les deux variables. Pour mesurer quelles associations sont significativement différentes des autres, on peut utilise un test de Tukey qui consiste à faire des tests de comparaison de moyenne sur deux échantillon avec toutes les combinaisons d'association"
   ]
  },
  {
   "cell_type": "markdown",
   "metadata": {},
   "source": [
    "Pour cela, on crée une colonne avec les combinaisons des deux facteurs."
   ]
  },
  {
   "cell_type": "code",
   "execution_count": 61,
   "metadata": {},
   "outputs": [
    {
     "data": {
      "text/html": [
       "<div>\n",
       "<style scoped>\n",
       "    .dataframe tbody tr th:only-of-type {\n",
       "        vertical-align: middle;\n",
       "    }\n",
       "\n",
       "    .dataframe tbody tr th {\n",
       "        vertical-align: top;\n",
       "    }\n",
       "\n",
       "    .dataframe thead th {\n",
       "        text-align: right;\n",
       "    }\n",
       "</style>\n",
       "<table border=\"1\" class=\"dataframe\">\n",
       "  <thead>\n",
       "    <tr style=\"text-align: right;\">\n",
       "      <th></th>\n",
       "      <th>len</th>\n",
       "      <th>supp</th>\n",
       "      <th>dose</th>\n",
       "      <th>combinaison</th>\n",
       "    </tr>\n",
       "  </thead>\n",
       "  <tbody>\n",
       "    <tr>\n",
       "      <th>0</th>\n",
       "      <td>4.2</td>\n",
       "      <td>VC</td>\n",
       "      <td>0.5</td>\n",
       "      <td>VC-0.5</td>\n",
       "    </tr>\n",
       "    <tr>\n",
       "      <th>1</th>\n",
       "      <td>11.5</td>\n",
       "      <td>VC</td>\n",
       "      <td>0.5</td>\n",
       "      <td>VC-0.5</td>\n",
       "    </tr>\n",
       "    <tr>\n",
       "      <th>2</th>\n",
       "      <td>7.3</td>\n",
       "      <td>VC</td>\n",
       "      <td>0.5</td>\n",
       "      <td>VC-0.5</td>\n",
       "    </tr>\n",
       "  </tbody>\n",
       "</table>\n",
       "</div>"
      ],
      "text/plain": [
       "    len supp dose combinaison\n",
       "0   4.2   VC  0.5      VC-0.5\n",
       "1  11.5   VC  0.5      VC-0.5\n",
       "2   7.3   VC  0.5      VC-0.5"
      ]
     },
     "execution_count": 61,
     "metadata": {},
     "output_type": "execute_result"
    }
   ],
   "source": [
    "df['combinaison'] = df['supp'] + '-' + df['dose'].astype('str')\n",
    "df.head(3)"
   ]
  },
  {
   "cell_type": "code",
   "execution_count": 62,
   "metadata": {},
   "outputs": [
    {
     "name": "stdout",
     "output_type": "stream",
     "text": [
      " Multiple Comparison of Means - Tukey HSD, FWER=0.05  \n",
      "======================================================\n",
      "group1 group2 meandiff p-adj   lower    upper   reject\n",
      "------------------------------------------------------\n",
      "OJ-0.5 OJ-1.0     9.47    0.0   4.6719  14.2681   True\n",
      "OJ-0.5 OJ-2.0    12.83    0.0   8.0319  17.6281   True\n",
      "OJ-0.5 VC-0.5    -5.25 0.0243 -10.0481  -0.4519   True\n",
      "OJ-0.5 VC-1.0     3.54  0.264  -1.2581   8.3381  False\n",
      "OJ-0.5 VC-2.0    12.91    0.0   8.1119  17.7081   True\n",
      "OJ-1.0 OJ-2.0     3.36 0.3187  -1.4381   8.1581  False\n",
      "OJ-1.0 VC-0.5   -14.72    0.0 -19.5181  -9.9219   True\n",
      "OJ-1.0 VC-1.0    -5.93 0.0074 -10.7281  -1.1319   True\n",
      "OJ-1.0 VC-2.0     3.44 0.2936  -1.3581   8.2381  False\n",
      "OJ-2.0 VC-0.5   -18.08    0.0 -22.8781 -13.2819   True\n",
      "OJ-2.0 VC-1.0    -9.29    0.0 -14.0881  -4.4919   True\n",
      "OJ-2.0 VC-2.0     0.08    1.0  -4.7181   4.8781  False\n",
      "VC-0.5 VC-1.0     8.79    0.0   3.9919  13.5881   True\n",
      "VC-0.5 VC-2.0    18.16    0.0  13.3619  22.9581   True\n",
      "VC-1.0 VC-2.0     9.37    0.0   4.5719  14.1681   True\n",
      "------------------------------------------------------\n"
     ]
    }
   ],
   "source": [
    "import statsmodels.stats.multicomp as multi \n",
    "Results = multi.MultiComparison(df['len'], df['combinaison'])\n",
    "Results = Results.tukeyhsd()\n",
    "print(Results)"
   ]
  },
  {
   "cell_type": "code",
   "execution_count": null,
   "metadata": {},
   "outputs": [],
   "source": []
  }
 ],
 "metadata": {
  "kernelspec": {
   "display_name": "Python 3 (ipykernel)",
   "language": "python",
   "name": "python3"
  },
  "language_info": {
   "codemirror_mode": {
    "name": "ipython",
    "version": 3
   },
   "file_extension": ".py",
   "mimetype": "text/x-python",
   "name": "python",
   "nbconvert_exporter": "python",
   "pygments_lexer": "ipython3",
   "version": "3.8.18"
  },
  "toc": {
   "base_numbering": 1,
   "nav_menu": {
    "height": "603px",
    "width": "443px"
   },
   "number_sections": true,
   "sideBar": true,
   "skip_h1_title": false,
   "title_cell": "Table of Contents",
   "title_sidebar": "Contents",
   "toc_cell": false,
   "toc_position": {},
   "toc_section_display": true,
   "toc_window_display": false
  },
  "toc-autonumbering": false,
  "toc-showcode": false,
  "toc-showmarkdowntxt": false
 },
 "nbformat": 4,
 "nbformat_minor": 4
}
